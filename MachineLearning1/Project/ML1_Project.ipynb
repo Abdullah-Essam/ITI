{
 "cells": [
  {
   "cell_type": "markdown",
   "metadata": {
    "id": "LsCS8ckGAua6"
   },
   "source": [
    "## Installing MediaPipe"
   ]
  },
  {
   "cell_type": "code",
   "execution_count": null,
   "metadata": {
    "id": "AfVHCj5VAkky"
   },
   "outputs": [],
   "source": [
    "!pip install Mediapipe\n",
    "!pip install protobuf==3.20.*\n",
    "!pip install opencv-python"
   ]
  },
  {
   "cell_type": "markdown",
   "metadata": {
    "id": "KNdGPfI2A0vD"
   },
   "source": [
    "\n",
    "## Import Libraries"
   ]
  },
  {
   "cell_type": "code",
   "execution_count": 141,
   "metadata": {
    "id": "JMD9H2caAyos"
   },
   "outputs": [],
   "source": [
    "import numpy as np\n",
    "import os,cv2,math,glob,random\n",
    "import scipy.io as sio\n",
    "from math import cos, sin\n",
    "from pathlib import Path\n",
    "import pandas as pd\n",
    "import mediapipe\n",
    "import warnings\n",
    "\n",
    "from sklearn.svm import LinearSVR\n",
    "from sklearn.pipeline import make_pipeline\n",
    "from sklearn.datasets import make_regression\n",
    "from sklearn.linear_model import LinearRegression\n",
    "from sklearn.datasets import load_linnerud\n",
    "from sklearn.multioutput import MultiOutputRegressor\n",
    "from sklearn.decomposition import PCA\n",
    "from sklearn.preprocessing import StandardScaler\n",
    "from sklearn.metrics import r2_score\n",
    "from sklearn.metrics import mean_squared_error\n",
    "from sklearn.metrics import mean_absolute_error\n",
    "from sklearn.linear_model import SGDRegressor\n",
    "\n",
    "from sklearn.linear_model import Ridge\n",
    "from sklearn.ensemble import RandomForestRegressor\n",
    "from sklearn.model_selection import GridSearchCV\n",
    "from sklearn.neighbors import KNeighborsRegressor\n",
    "from sklearn.tree import DecisionTreeRegressor\n",
    "from sklearn.model_selection import cross_val_score\n",
    "from sklearn.model_selection import RepeatedKFold\n",
    "from sklearn.multioutput import RegressorChain\n",
    "from sklearn.model_selection import train_test_split\n",
    "import matplotlib.pyplot as plt\n",
    "%matplotlib inline\n",
    "\n",
    "warnings.filterwarnings('ignore')"
   ]
  },
  {
   "cell_type": "markdown",
   "metadata": {
    "id": "AGHe22Lj9DwA"
   },
   "source": [
    "## Helper Functions"
   ]
  },
  {
   "cell_type": "code",
   "execution_count": 2,
   "metadata": {
    "id": "oZVe65YyFJdF"
   },
   "outputs": [],
   "source": [
    "def draw_axis(img, pitch,yaw,roll, tdx=None, tdy=None, size = 100):\n",
    "\n",
    "    yaw = -yaw\n",
    "    if tdx == None and tdy == None:\n",
    "        height, width = img.shape[:2]\n",
    "        tdx = width / 2\n",
    "        tdy = height / 2\n",
    "\n",
    "    # X-Axis pointing to right. drawn in red\n",
    "    x1 = size * (cos(yaw) * cos(roll)) + tdx\n",
    "    y1 = size * (cos(pitch) * sin(roll) + cos(roll) * sin(pitch) * sin(yaw)) + tdy\n",
    "\n",
    "    # Y-Axis | drawn in green\n",
    "    #        v\n",
    "    x2 = size * (-cos(yaw) * sin(roll)) + tdx\n",
    "    y2 = size * (cos(pitch) * cos(roll) - sin(pitch) * sin(yaw) * sin(roll)) + tdy\n",
    "\n",
    "    # Z-Axis (out of the screen) drawn in blue\n",
    "    x3 = size * (sin(yaw)) + tdx\n",
    "    y3 = size * (-cos(yaw) * sin(pitch)) + tdy\n",
    "\n",
    "    cv2.line(img, (int(tdx), int(tdy)), (int(x1),int(y1)),(0,0,255),3)\n",
    "    cv2.line(img, (int(tdx), int(tdy)), (int(x2),int(y2)),(0,255,0),3)\n",
    "    cv2.line(img, (int(tdx), int(tdy)), (int(x3),int(y3)),(255,0,0),3)\n",
    "\n",
    "    return img"
   ]
  },
  {
   "cell_type": "markdown",
   "metadata": {
    "id": "Bnjmn1cpBPU4"
   },
   "source": [
    "## Preparing Data"
   ]
  },
  {
   "cell_type": "code",
   "execution_count": 3,
   "metadata": {
    "id": "hZ0_eqc2qLv7"
   },
   "outputs": [],
   "source": [
    "# get all images name from dataset\n",
    "def get_images_name(dir='AFLW2000/'):\n",
    "  images = set()\n",
    "  for filename in os.listdir(dir):\n",
    "    if filename.endswith(\"jpg\"):\n",
    "      images.add(filename.split('.')[0])\n",
    "  print('You have', len(images), 'images in your dataset')\n",
    "  return images"
   ]
  },
  {
   "cell_type": "code",
   "execution_count": 134,
   "metadata": {
    "id": "yty5LpA3cBhV"
   },
   "outputs": [],
   "source": [
    "# Creating DataFrame from Face Landmarks\n",
    "def create_df(images, dir='AFLW2000/', draw_on=False, with_mat=False, with_image_name=False):\n",
    "  \n",
    "  faceModule = mediapipe.solutions.face_mesh\n",
    "\n",
    "  images_data = []\n",
    "\n",
    "  with faceModule.FaceMesh(static_image_mode=True) as faces:\n",
    "    for image_name in images:\n",
    "      # collecting image data (x, y of face landmark and pitch, yaw, roll)\n",
    "      image_data = []\n",
    "      cols = []\n",
    "      # adding image name on data\n",
    "      if with_image_name:\n",
    "        image_data.append(image_name)\n",
    "        cols += ['image_name']\n",
    "      if draw_on:\n",
    "        print('Image Name:', image_name)\n",
    "      \n",
    "      # loading the image\n",
    "      image = cv2.imread(dir + image_name + '.jpg')\n",
    "\n",
    "      # processing the face to extract the landmark points (468 point) for each x,y,z\n",
    "      results = faces.process(cv2.cvtColor(image, cv2.COLOR_BGR2RGB))\n",
    "\n",
    "      cols += [x+str(i+1) for i in range(468) for x in ['X', 'Y']]\n",
    "\n",
    "      if results.multi_face_landmarks != None:\n",
    "        # looping over the faces in the image\n",
    "        for face in results.multi_face_landmarks:\n",
    "          for landmark in face.landmark:\n",
    "            x = landmark.x\n",
    "            y = landmark.y\n",
    "            # note: the x and y values are scaled to the their width and height so we will get back their actual value in the image\n",
    "            shape = image.shape \n",
    "            relative_x = int(x * shape[1])\n",
    "            relative_y = int(y * shape[0])\n",
    "            \n",
    "            image_data.append(relative_x)\n",
    "            image_data.append(relative_y)\n",
    "            \n",
    "            #cv2.circle(image, (relative_x, relative_y), radius=1, color=(0, 200, 0), thickness=2)\n",
    "\n",
    "          #if draw_on:\n",
    "            #plt.imshow(image)\n",
    "\n",
    "      if with_mat:\n",
    "        # loading the mat file to extract the 3 angels of the face (pitch,yaw,roll)\n",
    "        mat_file = sio.loadmat('AFLW2000/' + image_name +'.mat')\n",
    "        # extracting the labels 3 angels\n",
    "        pose_para = mat_file[\"Pose_Para\"][0][:3]\n",
    "        pitch = pose_para[0]\n",
    "        yaw = pose_para[1]\n",
    "        roll = pose_para[2]\n",
    "        image_data += [pitch, yaw, roll]\n",
    "        cols += ['pitch', 'yaw', 'roll']\n",
    "\n",
    "        if draw_on:\n",
    "            print([pitch, yaw, roll])\n",
    "            img = draw_axis(image,pitch,yaw,roll)\n",
    "            plt.imshow(cv2.cvtColor(img, cv2.COLOR_BGR2RGB))\n",
    "      images_data.append(image_data)\n",
    "      \n",
    "    \n",
    "  df = pd.DataFrame(images_data, columns=cols)\n",
    "  return df, image\n",
    "      \n",
    "            "
   ]
  },
  {
   "cell_type": "code",
   "execution_count": 5,
   "metadata": {
    "colab": {
     "base_uri": "https://localhost:8080/"
    },
    "id": "2irejLSLrUjE",
    "outputId": "634dba19-3a2f-4e75-bf95-b977291ac472"
   },
   "outputs": [
    {
     "name": "stdout",
     "output_type": "stream",
     "text": [
      "You have 2000 images in your dataset\n"
     ]
    }
   ],
   "source": [
    "images_name = get_images_name()"
   ]
  },
  {
   "cell_type": "code",
   "execution_count": 6,
   "metadata": {
    "colab": {
     "base_uri": "https://localhost:8080/",
     "height": 235
    },
    "id": "VTl8RVGjcCxd",
    "outputId": "8378884f-3dc0-4b1f-adaa-bf3356d361ca"
   },
   "outputs": [
    {
     "data": {
      "text/html": [
       "<div>\n",
       "<style scoped>\n",
       "    .dataframe tbody tr th:only-of-type {\n",
       "        vertical-align: middle;\n",
       "    }\n",
       "\n",
       "    .dataframe tbody tr th {\n",
       "        vertical-align: top;\n",
       "    }\n",
       "\n",
       "    .dataframe thead th {\n",
       "        text-align: right;\n",
       "    }\n",
       "</style>\n",
       "<table border=\"1\" class=\"dataframe\">\n",
       "  <thead>\n",
       "    <tr style=\"text-align: right;\">\n",
       "      <th></th>\n",
       "      <th>image_name</th>\n",
       "      <th>X1</th>\n",
       "      <th>Y1</th>\n",
       "      <th>X2</th>\n",
       "      <th>Y2</th>\n",
       "      <th>X3</th>\n",
       "      <th>Y3</th>\n",
       "      <th>X4</th>\n",
       "      <th>Y4</th>\n",
       "      <th>X5</th>\n",
       "      <th>...</th>\n",
       "      <th>Y465</th>\n",
       "      <th>X466</th>\n",
       "      <th>Y466</th>\n",
       "      <th>X467</th>\n",
       "      <th>Y467</th>\n",
       "      <th>X468</th>\n",
       "      <th>Y468</th>\n",
       "      <th>pitch</th>\n",
       "      <th>yaw</th>\n",
       "      <th>roll</th>\n",
       "    </tr>\n",
       "  </thead>\n",
       "  <tbody>\n",
       "    <tr>\n",
       "      <th>0</th>\n",
       "      <td>image01602</td>\n",
       "      <td>210.0</td>\n",
       "      <td>300.0</td>\n",
       "      <td>189.0</td>\n",
       "      <td>273.0</td>\n",
       "      <td>207.0</td>\n",
       "      <td>278.0</td>\n",
       "      <td>190.0</td>\n",
       "      <td>243.0</td>\n",
       "      <td>186.0</td>\n",
       "      <td>...</td>\n",
       "      <td>211.0</td>\n",
       "      <td>220.0</td>\n",
       "      <td>214.0</td>\n",
       "      <td>266.0</td>\n",
       "      <td>191.0</td>\n",
       "      <td>271.0</td>\n",
       "      <td>185.0</td>\n",
       "      <td>-0.339877</td>\n",
       "      <td>0.943137</td>\n",
       "      <td>-0.492823</td>\n",
       "    </tr>\n",
       "    <tr>\n",
       "      <th>1</th>\n",
       "      <td>image03641</td>\n",
       "      <td>226.0</td>\n",
       "      <td>304.0</td>\n",
       "      <td>217.0</td>\n",
       "      <td>278.0</td>\n",
       "      <td>223.0</td>\n",
       "      <td>287.0</td>\n",
       "      <td>212.0</td>\n",
       "      <td>253.0</td>\n",
       "      <td>216.0</td>\n",
       "      <td>...</td>\n",
       "      <td>231.0</td>\n",
       "      <td>237.0</td>\n",
       "      <td>233.0</td>\n",
       "      <td>286.0</td>\n",
       "      <td>218.0</td>\n",
       "      <td>290.0</td>\n",
       "      <td>212.0</td>\n",
       "      <td>-0.133372</td>\n",
       "      <td>0.163064</td>\n",
       "      <td>-0.128209</td>\n",
       "    </tr>\n",
       "    <tr>\n",
       "      <th>2</th>\n",
       "      <td>image02953</td>\n",
       "      <td>228.0</td>\n",
       "      <td>315.0</td>\n",
       "      <td>223.0</td>\n",
       "      <td>289.0</td>\n",
       "      <td>226.0</td>\n",
       "      <td>294.0</td>\n",
       "      <td>213.0</td>\n",
       "      <td>253.0</td>\n",
       "      <td>221.0</td>\n",
       "      <td>...</td>\n",
       "      <td>217.0</td>\n",
       "      <td>238.0</td>\n",
       "      <td>221.0</td>\n",
       "      <td>297.0</td>\n",
       "      <td>197.0</td>\n",
       "      <td>301.0</td>\n",
       "      <td>194.0</td>\n",
       "      <td>-0.284248</td>\n",
       "      <td>-0.013198</td>\n",
       "      <td>-0.100999</td>\n",
       "    </tr>\n",
       "    <tr>\n",
       "      <th>3</th>\n",
       "      <td>image04196</td>\n",
       "      <td>214.0</td>\n",
       "      <td>308.0</td>\n",
       "      <td>205.0</td>\n",
       "      <td>281.0</td>\n",
       "      <td>212.0</td>\n",
       "      <td>289.0</td>\n",
       "      <td>203.0</td>\n",
       "      <td>248.0</td>\n",
       "      <td>204.0</td>\n",
       "      <td>...</td>\n",
       "      <td>223.0</td>\n",
       "      <td>236.0</td>\n",
       "      <td>225.0</td>\n",
       "      <td>296.0</td>\n",
       "      <td>215.0</td>\n",
       "      <td>302.0</td>\n",
       "      <td>212.0</td>\n",
       "      <td>-0.156882</td>\n",
       "      <td>0.404901</td>\n",
       "      <td>0.019756</td>\n",
       "    </tr>\n",
       "    <tr>\n",
       "      <th>4</th>\n",
       "      <td>image00939</td>\n",
       "      <td>246.0</td>\n",
       "      <td>297.0</td>\n",
       "      <td>248.0</td>\n",
       "      <td>273.0</td>\n",
       "      <td>242.0</td>\n",
       "      <td>282.0</td>\n",
       "      <td>229.0</td>\n",
       "      <td>249.0</td>\n",
       "      <td>247.0</td>\n",
       "      <td>...</td>\n",
       "      <td>227.0</td>\n",
       "      <td>230.0</td>\n",
       "      <td>229.0</td>\n",
       "      <td>256.0</td>\n",
       "      <td>214.0</td>\n",
       "      <td>258.0</td>\n",
       "      <td>210.0</td>\n",
       "      <td>0.018702</td>\n",
       "      <td>-0.456421</td>\n",
       "      <td>-0.306169</td>\n",
       "    </tr>\n",
       "  </tbody>\n",
       "</table>\n",
       "<p>5 rows × 940 columns</p>\n",
       "</div>"
      ],
      "text/plain": [
       "   image_name     X1     Y1     X2     Y2     X3     Y3     X4     Y4     X5  \\\n",
       "0  image01602  210.0  300.0  189.0  273.0  207.0  278.0  190.0  243.0  186.0   \n",
       "1  image03641  226.0  304.0  217.0  278.0  223.0  287.0  212.0  253.0  216.0   \n",
       "2  image02953  228.0  315.0  223.0  289.0  226.0  294.0  213.0  253.0  221.0   \n",
       "3  image04196  214.0  308.0  205.0  281.0  212.0  289.0  203.0  248.0  204.0   \n",
       "4  image00939  246.0  297.0  248.0  273.0  242.0  282.0  229.0  249.0  247.0   \n",
       "\n",
       "   ...   Y465   X466   Y466   X467   Y467   X468   Y468     pitch       yaw  \\\n",
       "0  ...  211.0  220.0  214.0  266.0  191.0  271.0  185.0 -0.339877  0.943137   \n",
       "1  ...  231.0  237.0  233.0  286.0  218.0  290.0  212.0 -0.133372  0.163064   \n",
       "2  ...  217.0  238.0  221.0  297.0  197.0  301.0  194.0 -0.284248 -0.013198   \n",
       "3  ...  223.0  236.0  225.0  296.0  215.0  302.0  212.0 -0.156882  0.404901   \n",
       "4  ...  227.0  230.0  229.0  256.0  214.0  258.0  210.0  0.018702 -0.456421   \n",
       "\n",
       "       roll  \n",
       "0 -0.492823  \n",
       "1 -0.128209  \n",
       "2 -0.100999  \n",
       "3  0.019756  \n",
       "4 -0.306169  \n",
       "\n",
       "[5 rows x 940 columns]"
      ]
     },
     "execution_count": 6,
     "metadata": {},
     "output_type": "execute_result"
    }
   ],
   "source": [
    "df, img = create_df(images_name, draw_on=False, with_mat=True, with_image_name=True)\n",
    "df.dropna(inplace=True)\n",
    "df.head()"
   ]
  },
  {
   "cell_type": "code",
   "execution_count": 7,
   "metadata": {
    "id": "NzJdk_1vcDJA"
   },
   "outputs": [],
   "source": [
    "df.to_csv('all_data.csv',index=False)"
   ]
  },
  {
   "cell_type": "code",
   "execution_count": 8,
   "metadata": {
    "id": "AfG5mfL9tFG-"
   },
   "outputs": [],
   "source": [
    "#Crop Image to get Only the Face Function, returns the cropped Image\n",
    "def crop_images(df, image_name, img_dir='AFLW2000/', crop_dir='CroppedImages/', save_cropped=True, show_image=False):\n",
    "    image = cv2.imread(img_dir + image_name + '.jpg')\n",
    "    \n",
    "    df_test = df.loc[df['image_name'] == image_name]\n",
    "    df_test_X = df_test.loc[:, df_test.columns.str.startswith('X')]\n",
    "    df_test_Y = df_test.loc[:, df_test.columns.str.startswith('Y')]\n",
    "\n",
    "    min_x = int(df_test_X.min(axis=1).values[0])\n",
    "    max_x = int(df_test_X.max(axis=1).values[0])\n",
    "    min_Y = int(df_test_Y.min(axis=1).values[0])\n",
    "    max_Y = int(df_test_Y.max(axis=1).values[0])\n",
    "        \n",
    "    crop_top = image[min_Y:max_Y, min_x:max_x, :]\n",
    "    \n",
    "    if show_image:\n",
    "        print(min_x, max_x, min_Y, max_Y)\n",
    "        plt.figure(figsize=(10,10))\n",
    "        plt.imshow(cv2.cvtColor(crop_top, cv2.COLOR_BGR2RGB))\n",
    "        plt.show()\n",
    "        #create_df([image_name], dir=img_dir, draw_on=True)\n",
    "\n",
    "    if not os.path.exists(crop_dir):\n",
    "        os.makedirs(crop_dir)\n",
    "    if save_cropped and crop_top.size != 0:\n",
    "        cv2.imwrite(crop_dir + image_name + '.jpg', crop_top)\n",
    "\n",
    "    return crop_top"
   ]
  },
  {
   "cell_type": "code",
   "execution_count": 9,
   "metadata": {
    "id": "ZF9OA-fr3_ia"
   },
   "outputs": [],
   "source": [
    "# Crop All Images and save them in CroppedImages Folder\n",
    "for image in df['image_name']:\n",
    "    crop_images(df, image)"
   ]
  },
  {
   "cell_type": "code",
   "execution_count": 10,
   "metadata": {
    "colab": {
     "base_uri": "https://localhost:8080/"
    },
    "id": "XQddNvFpAnUq",
    "outputId": "df3309dc-51da-4470-b4e5-d15a074006c4"
   },
   "outputs": [
    {
     "name": "stdout",
     "output_type": "stream",
     "text": [
      "You have 1852 images in your dataset\n"
     ]
    }
   ],
   "source": [
    "images_name = get_images_name(dir='CroppedImages/')"
   ]
  },
  {
   "cell_type": "code",
   "execution_count": 11,
   "metadata": {
    "colab": {
     "base_uri": "https://localhost:8080/",
     "height": 235
    },
    "id": "I1M90acC9N0G",
    "outputId": "58dfd9e9-4b5a-49d5-821b-110907fbbc95"
   },
   "outputs": [
    {
     "data": {
      "text/html": [
       "<div>\n",
       "<style scoped>\n",
       "    .dataframe tbody tr th:only-of-type {\n",
       "        vertical-align: middle;\n",
       "    }\n",
       "\n",
       "    .dataframe tbody tr th {\n",
       "        vertical-align: top;\n",
       "    }\n",
       "\n",
       "    .dataframe thead th {\n",
       "        text-align: right;\n",
       "    }\n",
       "</style>\n",
       "<table border=\"1\" class=\"dataframe\">\n",
       "  <thead>\n",
       "    <tr style=\"text-align: right;\">\n",
       "      <th></th>\n",
       "      <th>image_name</th>\n",
       "      <th>X1</th>\n",
       "      <th>Y1</th>\n",
       "      <th>X2</th>\n",
       "      <th>Y2</th>\n",
       "      <th>X3</th>\n",
       "      <th>Y3</th>\n",
       "      <th>X4</th>\n",
       "      <th>Y4</th>\n",
       "      <th>X5</th>\n",
       "      <th>...</th>\n",
       "      <th>Y465</th>\n",
       "      <th>X466</th>\n",
       "      <th>Y466</th>\n",
       "      <th>X467</th>\n",
       "      <th>Y467</th>\n",
       "      <th>X468</th>\n",
       "      <th>Y468</th>\n",
       "      <th>pitch</th>\n",
       "      <th>yaw</th>\n",
       "      <th>roll</th>\n",
       "    </tr>\n",
       "  </thead>\n",
       "  <tbody>\n",
       "    <tr>\n",
       "      <th>0</th>\n",
       "      <td>image01602</td>\n",
       "      <td>40.0</td>\n",
       "      <td>162.0</td>\n",
       "      <td>17.0</td>\n",
       "      <td>138.0</td>\n",
       "      <td>35.0</td>\n",
       "      <td>143.0</td>\n",
       "      <td>15.0</td>\n",
       "      <td>110.0</td>\n",
       "      <td>13.0</td>\n",
       "      <td>...</td>\n",
       "      <td>79.0</td>\n",
       "      <td>41.0</td>\n",
       "      <td>82.0</td>\n",
       "      <td>83.0</td>\n",
       "      <td>60.0</td>\n",
       "      <td>87.0</td>\n",
       "      <td>55.0</td>\n",
       "      <td>-0.339877</td>\n",
       "      <td>0.943137</td>\n",
       "      <td>-0.492823</td>\n",
       "    </tr>\n",
       "    <tr>\n",
       "      <th>1</th>\n",
       "      <td>image03641</td>\n",
       "      <td>72.0</td>\n",
       "      <td>149.0</td>\n",
       "      <td>63.0</td>\n",
       "      <td>123.0</td>\n",
       "      <td>69.0</td>\n",
       "      <td>132.0</td>\n",
       "      <td>58.0</td>\n",
       "      <td>98.0</td>\n",
       "      <td>62.0</td>\n",
       "      <td>...</td>\n",
       "      <td>78.0</td>\n",
       "      <td>82.0</td>\n",
       "      <td>79.0</td>\n",
       "      <td>129.0</td>\n",
       "      <td>65.0</td>\n",
       "      <td>134.0</td>\n",
       "      <td>60.0</td>\n",
       "      <td>-0.133372</td>\n",
       "      <td>0.163064</td>\n",
       "      <td>-0.128209</td>\n",
       "    </tr>\n",
       "    <tr>\n",
       "      <th>2</th>\n",
       "      <td>image02953</td>\n",
       "      <td>113.0</td>\n",
       "      <td>192.0</td>\n",
       "      <td>109.0</td>\n",
       "      <td>166.0</td>\n",
       "      <td>111.0</td>\n",
       "      <td>172.0</td>\n",
       "      <td>98.0</td>\n",
       "      <td>130.0</td>\n",
       "      <td>107.0</td>\n",
       "      <td>...</td>\n",
       "      <td>93.0</td>\n",
       "      <td>123.0</td>\n",
       "      <td>97.0</td>\n",
       "      <td>180.0</td>\n",
       "      <td>73.0</td>\n",
       "      <td>184.0</td>\n",
       "      <td>71.0</td>\n",
       "      <td>-0.284248</td>\n",
       "      <td>-0.013198</td>\n",
       "      <td>-0.100999</td>\n",
       "    </tr>\n",
       "    <tr>\n",
       "      <th>3</th>\n",
       "      <td>image04196</td>\n",
       "      <td>70.0</td>\n",
       "      <td>172.0</td>\n",
       "      <td>61.0</td>\n",
       "      <td>145.0</td>\n",
       "      <td>69.0</td>\n",
       "      <td>153.0</td>\n",
       "      <td>60.0</td>\n",
       "      <td>112.0</td>\n",
       "      <td>60.0</td>\n",
       "      <td>...</td>\n",
       "      <td>88.0</td>\n",
       "      <td>92.0</td>\n",
       "      <td>90.0</td>\n",
       "      <td>151.0</td>\n",
       "      <td>78.0</td>\n",
       "      <td>157.0</td>\n",
       "      <td>75.0</td>\n",
       "      <td>-0.156882</td>\n",
       "      <td>0.404901</td>\n",
       "      <td>0.019756</td>\n",
       "    </tr>\n",
       "    <tr>\n",
       "      <th>4</th>\n",
       "      <td>image00939</td>\n",
       "      <td>145.0</td>\n",
       "      <td>133.0</td>\n",
       "      <td>149.0</td>\n",
       "      <td>109.0</td>\n",
       "      <td>142.0</td>\n",
       "      <td>117.0</td>\n",
       "      <td>129.0</td>\n",
       "      <td>86.0</td>\n",
       "      <td>147.0</td>\n",
       "      <td>...</td>\n",
       "      <td>64.0</td>\n",
       "      <td>129.0</td>\n",
       "      <td>65.0</td>\n",
       "      <td>155.0</td>\n",
       "      <td>48.0</td>\n",
       "      <td>157.0</td>\n",
       "      <td>44.0</td>\n",
       "      <td>0.018702</td>\n",
       "      <td>-0.456421</td>\n",
       "      <td>-0.306169</td>\n",
       "    </tr>\n",
       "  </tbody>\n",
       "</table>\n",
       "<p>5 rows × 940 columns</p>\n",
       "</div>"
      ],
      "text/plain": [
       "   image_name     X1     Y1     X2     Y2     X3     Y3     X4     Y4     X5  \\\n",
       "0  image01602   40.0  162.0   17.0  138.0   35.0  143.0   15.0  110.0   13.0   \n",
       "1  image03641   72.0  149.0   63.0  123.0   69.0  132.0   58.0   98.0   62.0   \n",
       "2  image02953  113.0  192.0  109.0  166.0  111.0  172.0   98.0  130.0  107.0   \n",
       "3  image04196   70.0  172.0   61.0  145.0   69.0  153.0   60.0  112.0   60.0   \n",
       "4  image00939  145.0  133.0  149.0  109.0  142.0  117.0  129.0   86.0  147.0   \n",
       "\n",
       "   ...  Y465   X466  Y466   X467  Y467   X468  Y468     pitch       yaw  \\\n",
       "0  ...  79.0   41.0  82.0   83.0  60.0   87.0  55.0 -0.339877  0.943137   \n",
       "1  ...  78.0   82.0  79.0  129.0  65.0  134.0  60.0 -0.133372  0.163064   \n",
       "2  ...  93.0  123.0  97.0  180.0  73.0  184.0  71.0 -0.284248 -0.013198   \n",
       "3  ...  88.0   92.0  90.0  151.0  78.0  157.0  75.0 -0.156882  0.404901   \n",
       "4  ...  64.0  129.0  65.0  155.0  48.0  157.0  44.0  0.018702 -0.456421   \n",
       "\n",
       "       roll  \n",
       "0 -0.492823  \n",
       "1 -0.128209  \n",
       "2 -0.100999  \n",
       "3  0.019756  \n",
       "4 -0.306169  \n",
       "\n",
       "[5 rows x 940 columns]"
      ]
     },
     "execution_count": 11,
     "metadata": {},
     "output_type": "execute_result"
    }
   ],
   "source": [
    "df_cropped, img = create_df(images_name, draw_on=False, with_mat=True, with_image_name=True, dir='CroppedImages/')\n",
    "df_cropped.dropna(inplace=True)\n",
    "df_cropped.head()"
   ]
  },
  {
   "cell_type": "code",
   "execution_count": 12,
   "metadata": {
    "id": "jazJRwHkBNm-"
   },
   "outputs": [],
   "source": [
    "df_cropped.to_csv('cropped_data.csv',index=False)"
   ]
  },
  {
   "cell_type": "code",
   "execution_count": 111,
   "metadata": {
    "id": "wyKkJm7PBYDr"
   },
   "outputs": [],
   "source": [
    "X = df_cropped.drop(columns=['image_name', 'pitch', 'yaw', 'roll'])\n",
    "y = df_cropped[['pitch', 'yaw', 'roll']]"
   ]
  },
  {
   "cell_type": "markdown",
   "metadata": {
    "id": "J_wCCHb94AVx"
   },
   "source": [
    "## Preprocessing"
   ]
  },
  {
   "cell_type": "markdown",
   "metadata": {
    "id": "U31WNrxBG_3O"
   },
   "source": [
    "#### PCA"
   ]
  },
  {
   "cell_type": "code",
   "execution_count": 100,
   "metadata": {
    "id": "Jj4_qQ6BHDV6"
   },
   "outputs": [],
   "source": [
    "def do_pca(X):\n",
    "    pca = PCA(n_components=50)\n",
    "    X = pca.fit_transform(X)\n",
    "    return pca, X"
   ]
  },
  {
   "cell_type": "code",
   "execution_count": 112,
   "metadata": {
    "colab": {
     "base_uri": "https://localhost:8080/"
    },
    "id": "xqQfCp92HVom",
    "outputId": "64beeeb0-21d5-46bc-a6ed-78020c251331",
    "scrolled": false
   },
   "outputs": [
    {
     "data": {
      "text/plain": [
       "(1759, 50)"
      ]
     },
     "execution_count": 112,
     "metadata": {},
     "output_type": "execute_result"
    }
   ],
   "source": [
    "pca, X = do_pca(X)\n",
    "X.shape"
   ]
  },
  {
   "cell_type": "markdown",
   "metadata": {
    "id": "U31WNrxBG_3O"
   },
   "source": [
    "#### Standardization"
   ]
  },
  {
   "cell_type": "code",
   "execution_count": 113,
   "metadata": {},
   "outputs": [],
   "source": [
    "std = StandardScaler()\n",
    "std.fit(X)\n",
    "X = std.transform(X)"
   ]
  },
  {
   "cell_type": "markdown",
   "metadata": {
    "id": "U31WNrxBG_3O"
   },
   "source": [
    "#### Splitting The Data"
   ]
  },
  {
   "cell_type": "code",
   "execution_count": 114,
   "metadata": {
    "colab": {
     "base_uri": "https://localhost:8080/"
    },
    "id": "73DboRmO3_4W",
    "outputId": "84d63df7-eba0-428a-8352-8250f7b3cc32"
   },
   "outputs": [
    {
     "name": "stdout",
     "output_type": "stream",
     "text": [
      "Train Data Shape: \t (1407, 50) (1407, 3)\n",
      "Test Data Shape: \t (352, 50) (352, 3)\n"
     ]
    }
   ],
   "source": [
    "x_train, x_test, y_train, y_test = train_test_split(X, y, test_size=0.2, random_state=42)\n",
    "\n",
    "print('Train Data Shape: \\t', x_train.shape, y_train.shape)\n",
    "print('Test Data Shape: \\t', x_test.shape, y_test.shape)"
   ]
  },
  {
   "cell_type": "markdown",
   "metadata": {
    "id": "O4AOe268-1-j"
   },
   "source": [
    "## Training"
   ]
  },
  {
   "cell_type": "markdown",
   "metadata": {
    "id": "WXrSA2W7KAD6"
   },
   "source": [
    "#### Linear SVR"
   ]
  },
  {
   "cell_type": "code",
   "execution_count": 18,
   "metadata": {
    "colab": {
     "base_uri": "https://localhost:8080/"
    },
    "id": "P8ZcmTOPwEnq",
    "outputId": "b7d384db-a922-4ba6-b4e2-af0b4f35a7f2"
   },
   "outputs": [
    {
     "data": {
      "text/plain": [
       "dict_keys(['estimator__C', 'estimator__dual', 'estimator__epsilon', 'estimator__fit_intercept', 'estimator__intercept_scaling', 'estimator__loss', 'estimator__max_iter', 'estimator__random_state', 'estimator__tol', 'estimator__verbose', 'estimator', 'n_jobs'])"
      ]
     },
     "execution_count": 18,
     "metadata": {},
     "output_type": "execute_result"
    }
   ],
   "source": [
    "params = {\n",
    "    \"estimator__epsilon\": [0.01, 0.05, 0.1, 0.2, 0.3],\n",
    "    \"estimator__C\": [0.001, 0.01, 0.05, 0.1],\n",
    "    \"estimator__loss\": [\"epsilon_insensitive\", \"squared_epsilon_insensitive\"],\n",
    "    \"estimator__tol\": [1e-4, 1e-5, 1e-6],\n",
    "    \"estimator__max_iter\": [1000, 10000, 100000]\n",
    "}\n",
    "\n",
    "model = LinearSVR()\n",
    "wrapper = MultiOutputRegressor(model)\n",
    "wrapper.get_params().keys()"
   ]
  },
  {
   "cell_type": "code",
   "execution_count": 19,
   "metadata": {
    "colab": {
     "base_uri": "https://localhost:8080/"
    },
    "id": "P2BPfgu6wEuu",
    "outputId": "defb6c0d-c34d-4f78-c83d-425ba90fefb1"
   },
   "outputs": [
    {
     "data": {
      "text/plain": [
       "{'estimator__C': 0.1,\n",
       " 'estimator__epsilon': 0.05,\n",
       " 'estimator__loss': 'epsilon_insensitive',\n",
       " 'estimator__max_iter': 1000,\n",
       " 'estimator__tol': 1e-06}"
      ]
     },
     "execution_count": 19,
     "metadata": {},
     "output_type": "execute_result"
    }
   ],
   "source": [
    "clf = GridSearchCV(wrapper, params)\n",
    "clf.fit(x_train,y_train)\n",
    "clf.best_params_"
   ]
  },
  {
   "cell_type": "code",
   "execution_count": 115,
   "metadata": {
    "colab": {
     "base_uri": "https://localhost:8080/"
    },
    "id": "6QNa93UAwE0W",
    "outputId": "746dc837-ae6f-4c4d-872d-3e2ec3b44608"
   },
   "outputs": [
    {
     "data": {
      "text/plain": [
       "MultiOutputRegressor(estimator=LinearSVR(C=0.1, epsilon=0.05, max_iter=10000,\n",
       "                                         tol=1e-05))"
      ]
     },
     "execution_count": 115,
     "metadata": {},
     "output_type": "execute_result"
    }
   ],
   "source": [
    "model = LinearSVR(C=0.1, dual=True, epsilon=0.05, loss='epsilon_insensitive', tol=1e-05, max_iter=10000)\n",
    "wrapper = MultiOutputRegressor(model)\n",
    "wrapper.fit(x_train, y_train)"
   ]
  },
  {
   "cell_type": "code",
   "execution_count": 142,
   "metadata": {
    "colab": {
     "base_uri": "https://localhost:8080/"
    },
    "id": "hFdlxffcwE7a",
    "outputId": "3d7b102c-3588-45f1-ddb7-884dc2b39b3f"
   },
   "outputs": [
    {
     "name": "stdout",
     "output_type": "stream",
     "text": [
      "R2 score:  0.8467297009001141\n",
      "MSE:  0.013629925005930509\n",
      "MAE:  0.07340385564182589\n"
     ]
    }
   ],
   "source": [
    "y_pred = wrapper.predict(x_test)\n",
    "print(\"R2 score: \", r2_score(y_test, y_pred))\n",
    "print(\"MSE: \", mean_squared_error(y_test, y_pred))\n",
    "print(\"MAE: \", mean_absolute_error(y_test, y_pred))"
   ]
  },
  {
   "cell_type": "markdown",
   "metadata": {
    "id": "VKBNacCrIqIP"
   },
   "source": [
    "## Testing"
   ]
  },
  {
   "cell_type": "markdown",
   "metadata": {
    "id": "pPX3A0kEEzRG"
   },
   "source": [
    "#### From DataSet"
   ]
  },
  {
   "cell_type": "code",
   "execution_count": 130,
   "metadata": {
    "id": "H316setG8YCh"
   },
   "outputs": [],
   "source": [
    "img_names_slice = [df['image_name'].values[10]]"
   ]
  },
  {
   "cell_type": "code",
   "execution_count": 137,
   "metadata": {
    "colab": {
     "base_uri": "https://localhost:8080/",
     "height": 511
    },
    "id": "wm19JHe-ocO7",
    "outputId": "5bd7ad20-c24e-45b0-cd57-e116f221517d",
    "scrolled": true
   },
   "outputs": [
    {
     "name": "stdout",
     "output_type": "stream",
     "text": [
      "Image Name: image01996\n",
      "[-0.11115791, 0.07430994, 0.009384186]\n"
     ]
    },
    {
     "data": {
      "image/png": "[encoded data removed]",
      "text/plain": [
       "<Figure size 432x288 with 1 Axes>"
      ]
     },
     "metadata": {
      "needs_background": "light"
     },
     "output_type": "display_data"
    }
   ],
   "source": [
    "df_test, image = create_df(img_names_slice, draw_on=True, with_mat=True, dir='CroppedImages/', with_image_name=True)"
   ]
  },
  {
   "cell_type": "code",
   "execution_count": 138,
   "metadata": {
    "colab": {
     "base_uri": "https://localhost:8080/",
     "height": 236
    },
    "id": "UkbgvrcpDnO3",
    "outputId": "8ad59171-8902-4c13-aeb6-d25114350d84"
   },
   "outputs": [
    {
     "name": "stdout",
     "output_type": "stream",
     "text": [
      "Image Name: image01996\n",
      "[-0.15162811  0.04641523  0.02638829]\n"
     ]
    },
    {
     "data": {
      "image/png": "[encoded data removed]",
      "text/plain": [
       "<Figure size 432x288 with 1 Axes>"
      ]
     },
     "metadata": {
      "needs_background": "light"
     },
     "output_type": "display_data"
    }
   ],
   "source": [
    "for img_name in df_test['image_name'].values:\n",
    "  test_features = df_test.loc[df['image_name'] == img_name]\n",
    "  test_features = df_test.drop(columns=['image_name', 'pitch', 'yaw', 'roll'])\n",
    "  test_features = pca.transform(test_features)\n",
    "  test_features = std.transform(test_features)\n",
    "  y_pred = wrapper.predict(test_features)[0]\n",
    "  pitch = y_pred[0]\n",
    "  yaw = y_pred[1]\n",
    "  roll = y_pred[2]\n",
    "\n",
    "  img = cv2.imread('CroppedImages/' + img_name + '.jpg')\n",
    "  img = draw_axis(img,pitch,yaw,roll)\n",
    "  plt.imshow(cv2.cvtColor(img, cv2.COLOR_BGR2RGB))\n",
    "  print('Image Name:', img_name)\n",
    "  print(y_pred)"
   ]
  },
  {
   "cell_type": "markdown",
   "metadata": {
    "id": "pPX3A0kEEzRG"
   },
   "source": [
    "#### From Camera"
   ]
  },
  {
   "cell_type": "code",
   "execution_count": 89,
   "metadata": {
    "id": "oGK32t-fEwxZ"
   },
   "outputs": [],
   "source": [
    "def get_mesh_data(image, draw_mesh=False):\n",
    "    faceModule = mediapipe.solutions.face_mesh\n",
    "    \n",
    "    images_data = []\n",
    "    mesh_image = image.copy()\n",
    "\n",
    "    with faceModule.FaceMesh(static_image_mode=True) as faces:\n",
    "        # collecting image data (x, y of face landmark and pitch, yaw, roll)\n",
    "        image_data = []\n",
    "        # processing the face to extract the landmark points (468 point) for each x,y,z\n",
    "        results = faces.process(cv2.cvtColor(image, cv2.COLOR_BGR2RGB))\n",
    "        \n",
    "        if results.multi_face_landmarks != None:\n",
    "            # looping over the faces in the image\n",
    "            for face in results.multi_face_landmarks:\n",
    "                for landmark in face.landmark:\n",
    "                    x = landmark.x\n",
    "                    y = landmark.y\n",
    "                    # note: the x and y values are scaled to the their width and height so we will get back their actual value in the image\n",
    "                    shape = image.shape \n",
    "                    relative_x = int(x * shape[1])\n",
    "                    relative_y = int(y * shape[0])\n",
    "                    image_data.append(relative_x)\n",
    "                    image_data.append(relative_y)\n",
    "                    if draw_mesh:\n",
    "                        cv2.circle(mesh_image, (relative_x, relative_y), radius=1, color=(0, 200, 0), thickness=2)\n",
    "                    \n",
    "    images_data.append(image_data)\n",
    "    df = pd.DataFrame(images_data)\n",
    "    cols = []\n",
    "    cols += [x+str(i+1) for i in range(int(df.shape[1] / 2)) for x in ['X', 'Y']]\n",
    "    \n",
    "    df.columns = cols\n",
    "    return df, image, mesh_image\n",
    "      \n",
    "            "
   ]
  },
  {
   "cell_type": "code",
   "execution_count": 90,
   "metadata": {},
   "outputs": [],
   "source": [
    "def crop_frame(df, image):    \n",
    "    df_test_X = df.loc[:, df.columns.str.startswith('X')]\n",
    "    df_test_Y = df.loc[:, df.columns.str.startswith('Y')]\n",
    "\n",
    "    min_x = int(df_test_X.min(axis=1).values[0])\n",
    "    max_x = int(df_test_X.max(axis=1).values[0])\n",
    "    min_Y = int(df_test_Y.min(axis=1).values[0])\n",
    "    max_Y = int(df_test_Y.max(axis=1).values[0])\n",
    "        \n",
    "    crop_top = image[min_Y:max_Y, min_x:max_x, :]\n",
    "    \n",
    "    return crop_top"
   ]
  },
  {
   "cell_type": "code",
   "execution_count": 91,
   "metadata": {
    "id": "feHCmPKKEwEB"
   },
   "outputs": [],
   "source": [
    "def do_some_magic(frame, draw_mesh=False, y_history=[], h_length=1, dynamic_axis=True):\n",
    "    df_frame, frame, frame_mesh = get_mesh_data(frame, draw_mesh=draw_mesh)\n",
    "    if df_frame.size > 0:\n",
    "        cropped_frame = crop_frame(df_frame, frame)\n",
    "        df_frame_cropped, cropped_image, cropped_mesh = get_mesh_data(cropped_frame)\n",
    "        X_frame = pca.transform(df_frame_cropped)\n",
    "        X_frame = std.transform(X_frame)\n",
    "        y_pred = wrapper.predict(X_frame)[0]\n",
    "        pitch = y_pred[0]\n",
    "        yaw = y_pred[1]\n",
    "        roll = y_pred[2]\n",
    "        \n",
    "        y_history.append(y_pred)\n",
    "        if len(y_history) > h_length:\n",
    "            history_arr = np.array(y_history)\n",
    "            pitch = np.average(history_arr[-h_length:,0])\n",
    "            yaw = np.average(history_arr[-h_length:,1])\n",
    "            roll = np.average(history_arr[-h_length:,2])\n",
    "            \n",
    "        if dynamic_axis:\n",
    "            tdx = int(df_frame['X3'].values)\n",
    "            tdy = int(df_frame['Y3'].values)\n",
    "        else:\n",
    "            height, width = frame.shape[:2]\n",
    "            tdx = width - 60\n",
    "            tdy = height - 60\n",
    "            \n",
    "        return draw_axis(frame_mesh,pitch,yaw,roll, tdx=tdx, tdy=tdy, size=50), y_history\n",
    "    else:\n",
    "        return frame, y_history\n"
   ]
  },
  {
   "cell_type": "code",
   "execution_count": 139,
   "metadata": {
    "colab": {
     "base_uri": "https://localhost:8080/",
     "height": 246
    },
    "id": "NLqHxf0fEv9v",
    "outputId": "17adef0b-60b2-4e18-8d8f-6ef73b753539",
    "scrolled": false
   },
   "outputs": [
    {
     "name": "stdout",
     "output_type": "stream",
     "text": [
      "Can't detect face\n",
      "Can't detect face\n",
      "Can't detect face\n"
     ]
    }
   ],
   "source": [
    "cap = cv2.VideoCapture(0)\n",
    "\n",
    "# Check if the webcam is opened correctly\n",
    "if not cap.isOpened():\n",
    "    raise IOError(\"Cannot open webcam\")\n",
    "\n",
    "with_mesh = False\n",
    "dynamic_axis = True\n",
    "y_history = []\n",
    "history_lenght = 1\n",
    "\n",
    "\n",
    "    \n",
    "while True:\n",
    "    c = cv2.waitKey(1)\n",
    "    \n",
    "    if c == 13:\n",
    "        dynamic_axis = not dynamic_axis\n",
    "    if c == 32:\n",
    "        with_mesh = not with_mesh\n",
    "    elif c == 43:\n",
    "        # decrease speed by increasing history size\n",
    "        history_lenght += 1\n",
    "    elif c == 45:\n",
    "        # increase speed by decreasing history size\n",
    "        history_lenght -= 1\n",
    "        history_lenght = 1 if history_lenght < 1 else history_lenght\n",
    "    \n",
    "    font = cv2.FONT_HERSHEY_DUPLEX\n",
    "    fontsize = 0.6\n",
    "    text = \"History Length = \" + str(history_lenght)\n",
    "    hint1 = \"Press '+' or '-' to change\"\n",
    "    hint2 = \"Press 'Enter' to change axis position\"\n",
    "    hint3 = \"Press 'Space' to view face mesh\"\n",
    "\n",
    "    ret, frame = cap.read()\n",
    "    \n",
    "\n",
    "\n",
    "    try:\n",
    "        if frame is not None and ret:\n",
    "            frame, y_history = do_some_magic(frame, with_mesh, y_history, history_lenght, dynamic_axis)\n",
    "            \n",
    "    except:\n",
    "        print('Can\\'t detect face')\n",
    "    \n",
    "    frame = cv2.resize(frame, None, fx=1, fy=1, interpolation=cv2.INTER_AREA)\n",
    "\n",
    "    frame = cv2.putText(frame, text, (20, 30), font, fontsize, color=(0, 0, 255))\n",
    "    frame = cv2.putText(frame, hint1, (20, 50), font, fontsize * 0.8, color=(50, 20, 200))\n",
    "    frame = cv2.putText(frame, hint2, (20, 65), font, fontsize * 0.8, color=(50, 20, 200))\n",
    "    frame = cv2.putText(frame, hint3, (20, 80), font, fontsize * 0.8, color=(50, 20, 200))\n",
    "\n",
    "    cv2.imshow('Pose Detection Application', frame)\n",
    "    \n",
    "\n",
    "        \n",
    "    if c == 27:\n",
    "        break\n",
    "\n",
    "cap.release()\n",
    "cv2.destroyAllWindows()"
   ]
  },
  {
   "cell_type": "code",
   "execution_count": 68,
   "metadata": {},
   "outputs": [],
   "source": [
    "cap.release()\n",
    "cv2.destroyAllWindows()"
   ]
  },
  {
   "cell_type": "code",
   "execution_count": null,
   "metadata": {},
   "outputs": [],
   "source": []
  }
 ],
 "metadata": {
  "colab": {
   "collapsed_sections": [
    "wshrhHOL-90N"
   ],
   "name": "ML1 Project.ipynb",
   "provenance": []
  },
  "kernelspec": {
   "display_name": "Python 3 (ipykernel)",
   "language": "python",
   "name": "python3"
  },
  "language_info": {
   "codemirror_mode": {
    "name": "ipython",
    "version": 3
   },
   "file_extension": ".py",
   "mimetype": "text/x-python",
   "name": "python",
   "nbconvert_exporter": "python",
   "pygments_lexer": "ipython3",
   "version": "3.9.7"
  }
 },
 "nbformat": 4,
 "nbformat_minor": 1
}
