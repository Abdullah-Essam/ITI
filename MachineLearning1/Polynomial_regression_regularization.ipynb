{
  "nbformat": 4,
  "nbformat_minor": 0,
  "metadata": {
    "kernelspec": {
      "display_name": "Python 3",
      "language": "python",
      "name": "python3"
    },
    "language_info": {
      "codemirror_mode": {
        "name": "ipython",
        "version": 3
      },
      "file_extension": ".py",
      "mimetype": "text/x-python",
      "name": "python",
      "nbconvert_exporter": "python",
      "pygments_lexer": "ipython3",
      "version": "3.7.6"
    },
    "colab": {
      "name": "Copy of Copy of Polynomial_regression_regularization.ipynb",
      "provenance": [],
      "collapsed_sections": [],
      "include_colab_link": true
    }
  },
  "cells": [
    {
      "cell_type": "markdown",
      "metadata": {
        "id": "view-in-github",
        "colab_type": "text"
      },
      "source": [
        "<a href=\"https://colab.research.google.com/github/aeshahta/ITI/blob/master/MachineLearning1/Polynomial_regression_regularization.ipynb\" target=\"_parent\"><img src=\"https://colab.research.google.com/assets/colab-badge.svg\" alt=\"Open In Colab\"/></a>"
      ]
    },
    {
      "cell_type": "markdown",
      "metadata": {
        "id": "eyjewtSBMA95"
      },
      "source": [
        "# Testing and regularization"
      ]
    },
    {
      "cell_type": "code",
      "metadata": {
        "id": "y_RXtj1eMCb3",
        "outputId": "124a5ce0-0e9b-48e5-d25a-7287230159ac",
        "colab": {
          "base_uri": "https://localhost:8080/"
        }
      },
      "source": [
        "!git clone https://github.com/s7s/machine_learning_1.git\n",
        "%cd  machine_learning_1/polynomial_regression"
      ],
      "execution_count": null,
      "outputs": [
        {
          "output_type": "stream",
          "name": "stdout",
          "text": [
            "Cloning into 'machine_learning_1'...\n",
            "remote: Enumerating objects: 186, done.\u001b[K\n",
            "remote: Counting objects: 100% (186/186), done.\u001b[K\n",
            "remote: Compressing objects: 100% (134/134), done.\u001b[K\n",
            "remote: Total 186 (delta 85), reused 150 (delta 49), pack-reused 0\u001b[K\n",
            "Receiving objects: 100% (186/186), 34.12 MiB | 13.20 MiB/s, done.\n",
            "Resolving deltas: 100% (85/85), done.\n",
            "Checking out files: 100% (51/51), done.\n",
            "/content/machine_learning_1/polynomial_regression/machine_learning_1/polynomial_regression\n"
          ]
        }
      ]
    },
    {
      "cell_type": "code",
      "metadata": {
        "id": "YpX56PtFMA-A"
      },
      "source": [
        "import pandas as pd\n",
        "import numpy as np\n",
        "import random\n",
        "import matplotlib.pyplot as plt\n",
        "random.seed(0)"
      ],
      "execution_count": null,
      "outputs": []
    },
    {
      "cell_type": "markdown",
      "metadata": {
        "id": "WBD0ZY2wMA-B"
      },
      "source": [
        "## Defining our dataset"
      ]
    },
    {
      "cell_type": "code",
      "metadata": {
        "id": "4sDgbZNRMA-C",
        "outputId": "f8123b54-6efb-4f94-e3fd-7c8933e67d9e",
        "colab": {
          "base_uri": "https://localhost:8080/",
          "height": 269
        }
      },
      "source": [
        "# Our original polynomial is -x^2+x+15\n",
        "coefs = [15,1,-1]\n",
        "\n",
        "def polynomial(coefs, x):\n",
        "    n = len(coefs)\n",
        "    return sum([coefs[i]*x**i for i in range(n)])\n",
        "\n",
        "def draw_polynomial(coefs):\n",
        "    n = len(coefs)\n",
        "    x = np.linspace(-5, 5, 1000)\n",
        "    plt.ylim(-20,20)\n",
        "    plt.plot(x, sum([coefs[i]*x**i for i in range(n)]), linestyle='-', color='black')\n",
        "\n",
        "draw_polynomial(coefs)"
      ],
      "execution_count": null,
      "outputs": [
        {
          "output_type": "display_data",
          "data": {
            "text/plain": [
              "<Figure size 432x288 with 1 Axes>"
            ],
            "image/png": "[encoded data removed]"
          },
          "metadata": {
            "needs_background": "light"
          }
        }
      ]
    },
    {
      "cell_type": "code",
      "metadata": {
        "id": "WvGqHRFCMA-E"
      },
      "source": [
        "X = []\n",
        "Y = []\n",
        "for i in range(40):\n",
        "    x = random.uniform(-5,5)\n",
        "    y = polynomial(coefs, x) + random.gauss(0,2)\n",
        "    X.append(x)\n",
        "    Y.append(y)\n",
        "X=np.array(X)\n",
        "Y=np.array(Y)"
      ],
      "execution_count": null,
      "outputs": []
    },
    {
      "cell_type": "code",
      "metadata": {
        "id": "ETQxgGiFMA-E",
        "outputId": "ae104f6c-241a-41b1-8b41-6eb4f9594478",
        "colab": {
          "base_uri": "https://localhost:8080/",
          "height": 282
        }
      },
      "source": [
        "plt.scatter(X, Y)\n",
        "#draw_polynomial(coefs)"
      ],
      "execution_count": null,
      "outputs": [
        {
          "output_type": "execute_result",
          "data": {
            "text/plain": [
              "<matplotlib.collections.PathCollection at 0x7f8129415190>"
            ]
          },
          "metadata": {},
          "execution_count": 48
        },
        {
          "output_type": "display_data",
          "data": {
            "text/plain": [
              "<Figure size 432x288 with 1 Axes>"
            ],
            "image/png": "[encoded data removed]"
          },
          "metadata": {
            "needs_background": "light"
          }
        }
      ]
    },
    {
      "cell_type": "markdown",
      "metadata": {
        "id": "wLUfmV9iMA-F"
      },
      "source": [
        "## Training a polynomial regression model"
      ]
    },
    {
      "cell_type": "code",
      "metadata": {
        "id": "xsNmJ6hoGPjb",
        "outputId": "594fcf96-e234-4e9d-cb05-6771a9326817",
        "colab": {
          "base_uri": "https://localhost:8080/"
        }
      },
      "source": [
        "for datasample in zip(X,Y):\n",
        "    print(datasample)"
      ],
      "execution_count": null,
      "outputs": [
        {
          "output_type": "stream",
          "name": "stdout",
          "text": [
            "(3.4442185152504816, 6.685961311021467)\n",
            "(-2.4108324970703663, 4.690236225597948)\n",
            "(0.11274721368608542, 12.205789026637378)\n",
            "(-1.9668727392107255, 11.133217991032268)\n",
            "(-0.23403045847644144, 10.927272159051856)\n",
            "(0.046868558173902564, 12.8584762866286)\n",
            "(-2.1816215560029617, 8.16012255928749)\n",
            "(-2.4949365863755943, 3.5061587527226514)\n",
            "(4.097462559682402, 5.933186396721837)\n",
            "(4.021659504395828, 2.454299054753137)\n",
            "(-1.8985243068066735, 8.956020414039855)\n",
            "(1.8398393191544127, 9.208004401915796)\n",
            "(-0.2785728454728664, 16.36505651355184)\n",
            "(1.1088697344380165, 16.14144978027318)\n",
            "(4.130110532378982, 4.299534274468492)\n",
            "(3.6530992777164, 4.83366913200435)\n",
            "(-2.395076896080406, 7.723543125251446)\n",
            "(-4.8595829983598104, -15.848718674227753)\n",
            "(2.1970468640395415, 9.366124268570305)\n",
            "(1.6815320123185087, 16.070558182542374)\n",
            "(-4.988571806855717, -18.893035332565795)\n",
            "(-2.5608912311286804, 6.043189895391749)\n",
            "(-1.7479563725260991, 11.091071520573042)\n",
            "(0.6751074062067186, 14.272553413210698)\n",
            "(-2.6138407138477984, 9.085321805751548)\n",
            "(-0.5203042856442961, 13.47860807272069)\n",
            "(-4.195541814474646, -7.812998091307244)\n",
            "(4.3283382422690675, 2.748647759010411)\n",
            "(-3.909421540688963, -7.163796336350065)\n",
            "(0.4744091132842376, 14.257854146830486)\n",
            "(3.14466863291336, 3.2664703661537313)\n",
            "(1.0318562796138302, 13.67662422703284)\n",
            "(0.8761706417543635, 12.57404063707232)\n",
            "(-1.1509885402733957, 13.436894195835206)\n",
            "(0.7565101416488851, 14.859288476607356)\n",
            "(-3.132704717444449, 3.3081236367340967)\n",
            "(1.1277317986860673, 13.596584816754236)\n",
            "(-4.1017563880440635, -7.821475002235993)\n",
            "(2.576039219664368, 14.181083579723474)\n",
            "(3.424602231401824, 3.5269925176080537)\n"
          ]
        }
      ]
    },
    {
      "cell_type": "markdown",
      "metadata": {
        "id": "Pze2ZphQMA-G"
      },
      "source": [
        "### Adding columns to our dataset corresponding to $x^2, x^3, \\ldots, x^{200}$"
      ]
    },
    {
      "cell_type": "code",
      "metadata": {
        "id": "c2XZgASOGfVv"
      },
      "source": [
        "from sklearn.preprocessing import PolynomialFeatures\n",
        "def addPoly(X,polyDegree):\n",
        "    ## TODO ##\n",
        "    #use sklearn (PolynomialFeatures method)\n",
        "    trans = PolynomialFeatures(degree=polyDegree, include_bias=False)\n",
        "    X = X.reshape(-1,1)\n",
        "    X = trans.fit_transform(X)\n",
        "    return X\n",
        "X_poly=addPoly(X,200)"
      ],
      "execution_count": null,
      "outputs": []
    },
    {
      "cell_type": "code",
      "metadata": {
        "id": "kKXdyM7fGzLC",
        "outputId": "9b072b8b-cd90-4eba-c5d4-91332f3cf20c",
        "colab": {
          "base_uri": "https://localhost:8080/"
        }
      },
      "source": [
        "print(X_poly.shape)\n",
        "print(X_poly[0,:])"
      ],
      "execution_count": null,
      "outputs": [
        {
          "output_type": "stream",
          "name": "stdout",
          "text": [
            "(40, 200)\n",
            "[3.44421852e+000 1.18626412e+001 4.08575284e+001 1.40722256e+002\n",
            " 4.84678199e+002 1.66933763e+003 5.74956356e+003 1.98027533e+004\n",
            " 6.82050095e+004 2.34912956e+005 8.09091554e+005 2.78668811e+006\n",
            " 9.59796279e+006 3.30574811e+007 1.13857189e+008 3.92149037e+008\n",
            " 1.35064697e+009 4.65192332e+009 1.60222404e+010 5.51840971e+010\n",
            " 1.90066089e+011 6.54629143e+011 2.25468581e+012 7.76563063e+012\n",
            " 2.67465288e+013 9.21208897e+013 3.17284474e+014 1.09279706e+015\n",
            " 3.76383187e+015 1.29634594e+016 4.46489869e+016 1.53780867e+017\n",
            " 5.29654911e+017 1.82424725e+018 6.28310616e+018 2.16403906e+019\n",
            " 7.45342338e+019 2.56712188e+020 8.84172871e+020 3.04528457e+021\n",
            " 1.04886255e+022 3.61251182e+022 1.24422801e+023 4.28539315e+023\n",
            " 1.47598304e+024 5.08360812e+024 1.75090572e+025 6.03050191e+025\n",
            " 2.07703663e+026 7.15376803e+026 2.46391403e+027 8.48625832e+027\n",
            " 2.92285280e+028 1.00669437e+029 3.46727540e+029 1.19420541e+030\n",
            " 4.11310440e+030 1.41664303e+031 4.87922816e+031 1.68051280e+032\n",
            " 5.78805329e+032 1.99353203e+033 6.86615993e+033 2.36485552e+034\n",
            " 8.14507916e+034 2.80534324e+035 9.66221514e+035 3.32787803e+036\n",
            " 1.14619391e+037 3.94774230e+037 1.35968871e+038 4.68306503e+038\n",
            " 1.61294993e+039 5.55535201e+039 1.91338463e+040 6.59011475e+040\n",
            " 2.26977953e+041 7.81761667e+041 2.69255801e+042 9.27375814e+042\n",
            " 3.19408495e+043 1.10011265e+044 3.78902837e+044 1.30502417e+045\n",
            " 4.49478839e+045 1.54810334e+046 5.33200619e+046 1.83645944e+047\n",
            " 6.32516762e+047 2.17852594e+048 7.50331939e+048 2.58430716e+049\n",
            " 8.90091855e+049 3.06567085e+050 1.05588403e+051 3.63669533e+051\n",
            " 1.25255734e+052 4.31408117e+052 1.48586383e+053 5.11763970e+053\n",
            " 1.76262694e+054 6.07087234e+054 2.09094109e+055 7.20165803e+055\n",
            " 2.48040839e+056 8.54306851e+056 2.94241947e+057 1.01343356e+058\n",
            " 3.49048664e+058 1.20219987e+059 4.14063906e+059 1.42612657e+060\n",
            " 4.91189154e+060 1.69176278e+061 5.82680069e+061 2.00687748e+062\n",
            " 6.91212458e+062 2.38068674e+063 8.19960536e+063 2.82412326e+064\n",
            " 9.72689763e+064 3.35015609e+065 1.15386696e+066 3.97416996e+066\n",
            " 1.36879098e+067 4.71441522e+067 1.62374762e+068 5.59254162e+068\n",
            " 1.92619354e+069 6.63423145e+069 2.28497428e+070 7.86995072e+070\n",
            " 2.71058300e+071 9.33584015e+071 3.21546735e+072 1.10747722e+073\n",
            " 3.81439354e+073 1.31376049e+074 4.52487819e+074 1.55846692e+075\n",
            " 5.36770063e+075 1.84875339e+076 6.36751066e+076 2.19310981e+077\n",
            " 7.55354941e+077 2.60160747e+078 8.96050463e+078 3.08619360e+079\n",
            " 1.06295251e+080 3.66104073e+080 1.26094243e+081 4.34296125e+081\n",
            " 1.49581075e+082 5.15189909e+082 1.77442662e+083 6.11151303e+083\n",
            " 2.10493864e+084 7.24986862e+084 2.49701317e+085 8.60025901e+085\n",
            " 2.96211713e+086 1.02021787e+087 3.51385326e+087 1.21024785e+088\n",
            " 4.16835804e+088 1.43567360e+089 4.94477358e+089 1.70308807e+090\n",
            " 5.86580747e+090 2.02031227e+091 6.95839692e+091 2.39662395e+092\n",
            " 8.25449659e+092 2.84302900e+093 9.79201312e+093 3.37258329e+094\n",
            " 1.16159138e+095 4.00077454e+095 1.37795417e+096 4.74597528e+096\n",
            " 1.63461759e+097 5.62998018e+097 1.93908820e+098 6.67864348e+098\n",
            " 2.30027075e+099 7.92263511e+099 2.72872865e+100 9.39833775e+100\n",
            " 3.23699289e+101 1.11489108e+102 3.83992852e+102 1.32255529e+103\n",
            " 4.55516942e+103 1.56889988e+104 5.40363403e+104 1.86112964e+105\n",
            " 6.41013716e+105 2.20779131e+106 7.60411570e+106 2.61902361e+107]\n"
          ]
        }
      ]
    },
    {
      "cell_type": "markdown",
      "metadata": {
        "id": "S8uYLISVMA-H"
      },
      "source": [
        "## Splitting data into training and testing"
      ]
    },
    {
      "cell_type": "code",
      "metadata": {
        "id": "fVnfiOyqMNLg"
      },
      "source": [
        "from sklearn.model_selection import train_test_split\n",
        "## TODO ##\n",
        "# use sklearn (train_test_split) to split data to 80% training 20% testing\n",
        "X_train, X_test, y_train, y_test = train_test_split(X_poly, Y, test_size=0.2)"
      ],
      "execution_count": null,
      "outputs": []
    },
    {
      "cell_type": "code",
      "metadata": {
        "id": "WmHYknzXMA-I"
      },
      "source": [
        "from sklearn.metrics import mean_squared_error\n",
        "def display_results(model):\n",
        "    coefs = [model.intercept_]\n",
        "    coefs += list(model.coef_)\n",
        "    ytrain_predict=model.predict(X_train)\n",
        "    ytest_predict=model.predict(X_test)\n",
        "    train_error=np.sqrt(mean_squared_error(y_train,ytrain_predict))\n",
        "    test_error=np.sqrt(mean_squared_error(y_test,ytest_predict))\n",
        "    print(\"Training error (rmse):\", train_error)\n",
        "    print(\"Testing error (rmse):\", test_error)\n",
        "    plt.scatter(X_train[:,0], y_train, marker='o')\n",
        "    plt.scatter(X_test[:,0], y_test, marker='^')\n",
        "    draw_polynomial(coefs)\n",
        "    plt.show()\n",
        "    print(\"Polynomial coefficients\")\n",
        "    print(coefs)"
      ],
      "execution_count": null,
      "outputs": []
    },
    {
      "cell_type": "markdown",
      "metadata": {
        "id": "G9x4Q5S3MA-I"
      },
      "source": [
        "## Training a polynomial regression model with no regularization"
      ]
    },
    {
      "cell_type": "code",
      "metadata": {
        "id": "QKm7sV7JMA-J",
        "outputId": "96bc19fa-a2b1-4ace-b694-ab6e76123f25",
        "colab": {
          "base_uri": "https://localhost:8080/"
        }
      },
      "source": [
        "from sklearn.linear_model import LinearRegression\n",
        "## TODO ##\n",
        "# use sklearn linear regression to fit the data \n",
        "# normalization trick ;)\n",
        "\n",
        "model_no_reg = LinearRegression(normalize=True).fit(X_train, y_train)"
      ],
      "execution_count": null,
      "outputs": [
        {
          "output_type": "stream",
          "name": "stderr",
          "text": [
            "/usr/local/lib/python3.7/dist-packages/sklearn/linear_model/_base.py:145: FutureWarning: 'normalize' was deprecated in version 1.0 and will be removed in 1.2.\n",
            "If you wish to scale the data, use Pipeline with a StandardScaler in a preprocessing stage. To reproduce the previous behavior:\n",
            "\n",
            "from sklearn.pipeline import make_pipeline\n",
            "\n",
            "model = make_pipeline(StandardScaler(with_mean=False), LinearRegression())\n",
            "\n",
            "If you wish to pass a sample_weight parameter, you need to pass it as a fit parameter to each step of the pipeline as follows:\n",
            "\n",
            "kwargs = {s[0] + '__sample_weight': sample_weight for s in model.steps}\n",
            "model.fit(X, y, **kwargs)\n",
            "\n",
            "\n",
            "  FutureWarning,\n"
          ]
        }
      ]
    },
    {
      "cell_type": "code",
      "metadata": {
        "id": "uje8MamakgwD",
        "outputId": "ab2450ae-a839-4420-e33c-8b08c0a55334",
        "colab": {
          "base_uri": "https://localhost:8080/",
          "height": 358
        }
      },
      "source": [
        "display_results(model_no_reg)"
      ],
      "execution_count": null,
      "outputs": [
        {
          "output_type": "stream",
          "name": "stdout",
          "text": [
            "Training error (rmse): 0.3111163662596279\n",
            "Testing error (rmse): 29375126232978.28\n"
          ]
        },
        {
          "output_type": "display_data",
          "data": {
            "text/plain": [
              "<Figure size 432x288 with 1 Axes>"
            ],
            "image/png": "[encoded data removed]"
          },
          "metadata": {
            "needs_background": "light"
          }
        },
        {
          "output_type": "stream",
          "name": "stdout",
          "text": [
            "Polynomial coefficients\n",
            "[10.666768307206931, 51.34212271444716, -47.87234131319765, -966.1213225050428, 2094.881692843678, 3237.0321729211773, -10549.712260872335, -121.95585990450262, 16314.806659119558, -5802.069792632732, -11794.047340116324, 6123.829068390487, 4661.7505975923405, -2937.286359005688, -1058.545490995507, 784.8490011799599, 133.7591284786274, -121.42238205700201, -7.838135865370752, 10.254815934305126, 0.04972311921606489, -0.3525551890932213, 0.002885121417363888, -0.005084959991577306, 0.0009667423095043137, 0.0003629040365663524, -1.2416531177769818e-06, 1.0095979838576859e-05, -2.276975208963702e-06, -7.485351986688529e-08, -8.710815538255663e-08, -8.42828341182746e-09, -3.2873222564545896e-10, -1.234167046348836e-10, 1.0911349287923723e-10, 2.4822951528562596e-12, 6.084309892156253e-12, 1.1082322367081776e-14, 1.9177582900289334e-13, -1.3763755039001056e-14, 3.5206420517371596e-15, -1.1209358293105574e-15, -3.939407944173621e-18, -5.497261531397905e-17, -2.9257288967856097e-18, -1.9995426276673912e-18, -1.090369903665061e-19, -5.406793126310591e-20, -8.938147702398367e-22, -8.446868809762769e-22, 1.4168233612425187e-22, 1.5273223888456476e-23, 1.1473742401859408e-23, 1.9985472839658688e-24, 5.907198437469738e-25, 1.0713015462757546e-25, 2.410206368498096e-26, 4.378967513258248e-27, 8.162577832564888e-28, 1.4507686434171635e-28, 2.2814796673960955e-29, 3.854069295369579e-30, 4.389660321485566e-31, 6.510323422636673e-32, -2.5065819846230786e-33, -8.386801550315669e-34, -7.971132617623195e-34, -1.5774020496526494e-34, -5.483079616816201e-35, -1.0056845177423732e-35, -2.8816782384534834e-36, -5.1402787705949444e-37, -1.332752790788507e-37, -2.2790502378727517e-38, -5.745956794423164e-39, -9.542253973691262e-40, -2.319739800913127e-40, -3.77135533507011e-41, -9.055625707214868e-42, -1.441178711018927e-42, -3.440647748717099e-43, -5.246321795765405e-44, -1.2670596772797373e-44, -1.8778360126199708e-45, -4.646381533752353e-46, -6.611938540819407e-47, -1.6584411380433618e-47, -2.2457803375661765e-48, -5.900412947541371e-49, -7.545313278332322e-50, -2.0768093790132613e-50, -2.4574851708748365e-51, -7.235309193060121e-52, -7.8499033784661675e-53, -2.5260382393672686e-53, -2.3301361559043243e-54, -8.940984218451369e-55, -7.1615533397853065e-56, -3.07429605818541e-56, -2.022641333065498e-57, -1.082845983984646e-57, -5.1165931794572185e-59, -3.814219346270706e-59, -1.1490206401898937e-60, -1.3717145537827728e-60, -1.111465786384283e-62, -4.807327899192815e-62, 6.392931475876113e-64, -1.722762320882207e-63, 4.90004860676323e-65, -6.311074927595281e-65, 3.363527061503121e-66, -2.3589286410826116e-66, 1.678394312468938e-67, -8.97634893318487e-68, 8.236710141109623e-69, -3.355606781969883e-69, 3.4384949531012967e-70, -1.233399753013463e-70, 1.5653370554422126e-71, -4.666044911184623e-72, 6.760843164484922e-73, -1.9285654301477878e-73, 2.7342027907183295e-74, -7.721341175549094e-75, 1.1963863825505232e-75, -2.878581785493186e-76, 4.774694166734162e-77, -1.1579782762523739e-77, 1.971236731049257e-78, -4.734001663216069e-79, 8.57149376156398e-80, -1.795642611207341e-80, 3.320635450780517e-81, -7.264167847405781e-82, 1.3582965947364662e-82, -2.982985835150764e-83, 5.755767314199551e-84, -1.1672945848637202e-84, 2.1265835441672848e-85, -4.6245966294145685e-86, 8.90361933754072e-87, -1.8915107036318594e-87, 3.316362264439865e-88, -6.706369613162516e-89, 1.461267014505576e-89, -3.048917111990265e-90, 5.698910616701078e-91, -1.1903364165385516e-91, 2.405013082372066e-92, -4.719472454564644e-93, 9.334984058502015e-94, -1.9720647693589949e-94, 3.8449491140341356e-95, -8.11730650046647e-96, 1.4570422077087856e-96, -3.0541787635882254e-97, 6.234184067891442e-98, -1.2100503743827134e-98, 2.513524460746303e-99, -4.979651500014426e-100, 9.779634598627073e-101, -1.9779945294462868e-101, 3.756944561725158e-102, -8.254223291796617e-103, 1.6183962286590802e-103, -3.3477783153892504e-104, 6.565482325621626e-105, -1.2958094964740649e-105, 2.600780858834626e-106, -5.149965733435202e-107, 1.095334061318374e-107, -2.076329871338466e-108, 4.1921565681706036e-109, -8.300049213614807e-110, 1.720136569843519e-110, -3.2926139925965865e-111, 6.727225500430089e-112, -1.3201627022367803e-112, 2.7030016246115705e-113, -5.3118554788312044e-114, 1.1342108974003163e-114, -2.1648844666660887e-115, 4.2694368500552465e-116, -9.140320640090179e-117, 1.792026894982337e-117, -3.3546992221091015e-118, 7.294751627537493e-119, -1.4232338891857634e-119, 2.93684521772152e-120, -5.86592147972801e-121, 1.1681413927097056e-121, -2.288706750722069e-122, 4.834309815006625e-123, -9.352698834441855e-124, 1.885368060955379e-124, -3.6881850192001986e-125, 7.464978582929306e-126, -1.48728216779902e-126, 2.926777582034057e-127, -6.275874825478113e-128]\n"
          ]
        }
      ]
    },
    {
      "cell_type": "markdown",
      "metadata": {
        "id": "TLTU-3ojMA-J"
      },
      "source": [
        "## Training a polynomial regression model with L1 regularization"
      ]
    },
    {
      "cell_type": "code",
      "metadata": {
        "id": "sBfyPNvMMA-J",
        "outputId": "251e48de-75c2-435f-c53a-d42bc9ab156a",
        "colab": {
          "base_uri": "https://localhost:8080/"
        }
      },
      "source": [
        "from sklearn import linear_model\n",
        "## TODO ##\n",
        "# use sklearn Lasso (linear regression with L1 Norm) to fit the data \n",
        "# normalization trick ;)\n",
        "\n",
        "model_L1_reg = linear_model.Lasso(alpha=0.1, normalize=True).fit(X_train, y_train)"
      ],
      "execution_count": null,
      "outputs": [
        {
          "output_type": "stream",
          "name": "stderr",
          "text": [
            "/usr/local/lib/python3.7/dist-packages/sklearn/linear_model/_base.py:145: FutureWarning: 'normalize' was deprecated in version 1.0 and will be removed in 1.2.\n",
            "If you wish to scale the data, use Pipeline with a StandardScaler in a preprocessing stage. To reproduce the previous behavior:\n",
            "\n",
            "from sklearn.pipeline import make_pipeline\n",
            "\n",
            "model = make_pipeline(StandardScaler(with_mean=False), Lasso())\n",
            "\n",
            "If you wish to pass a sample_weight parameter, you need to pass it as a fit parameter to each step of the pipeline as follows:\n",
            "\n",
            "kwargs = {s[0] + '__sample_weight': sample_weight for s in model.steps}\n",
            "model.fit(X, y, **kwargs)\n",
            "\n",
            "Set parameter alpha to: original_alpha * np.sqrt(n_samples). \n",
            "  FutureWarning,\n"
          ]
        }
      ]
    },
    {
      "cell_type": "code",
      "metadata": {
        "id": "LOYlQsU5MA-K",
        "outputId": "e8b552ac-16ae-440c-b315-01774f91cbd9",
        "colab": {
          "base_uri": "https://localhost:8080/",
          "height": 358
        }
      },
      "source": [
        "display_results(model_L1_reg)"
      ],
      "execution_count": null,
      "outputs": [
        {
          "output_type": "stream",
          "name": "stdout",
          "text": [
            "Training error (rmse): 2.1867658276784825\n",
            "Testing error (rmse): 1.7328172120223098\n"
          ]
        },
        {
          "output_type": "display_data",
          "data": {
            "text/plain": [
              "<Figure size 432x288 with 1 Axes>"
            ],
            "image/png": "[encoded data removed]"
          },
          "metadata": {
            "needs_background": "light"
          }
        },
        {
          "output_type": "stream",
          "name": "stdout",
          "text": [
            "Polynomial coefficients\n",
            "[13.860775932527488, 0.13668580108095174, -0.8800683844200753, 0.02938825405463276, -0.0, 0.0015058478675910201, -0.0, 0.0, -0.0, 0.0, -0.0, 0.0, -0.0, 0.0, -0.0, 0.0, -0.0, 0.0, -0.0, 0.0, -0.0, 0.0, -0.0, 0.0, -0.0, 0.0, -0.0, 0.0, -0.0, 0.0, -0.0, 0.0, -0.0, 0.0, -0.0, 0.0, -0.0, 0.0, -0.0, 0.0, -0.0, 0.0, -0.0, 0.0, -0.0, 0.0, -0.0, 0.0, -0.0, 0.0, -0.0, 0.0, -0.0, 0.0, -0.0, 0.0, -0.0, 0.0, -0.0, 0.0, -0.0, 0.0, -0.0, 0.0, -0.0, 0.0, -0.0, 0.0, -0.0, 0.0, -0.0, 0.0, -0.0, 0.0, -0.0, 0.0, -0.0, 0.0, -0.0, 0.0, -0.0, 0.0, -0.0, 0.0, -0.0, 0.0, -0.0, 0.0, -0.0, 0.0, -0.0, 0.0, -0.0, 0.0, -0.0, 0.0, -0.0, 0.0, -0.0, 0.0, -0.0, 0.0, -0.0, 0.0, -0.0, 0.0, -0.0, 0.0, -0.0, 0.0, -0.0, 0.0, -0.0, 0.0, -0.0, 0.0, -0.0, 0.0, -0.0, 0.0, -0.0, 0.0, -0.0, 0.0, -0.0, 0.0, -0.0, 0.0, -0.0, 0.0, -0.0, 0.0, -0.0, 0.0, -0.0, 0.0, -0.0, 0.0, -0.0, 0.0, -0.0, 0.0, -0.0, 0.0, -0.0, 0.0, -0.0, 0.0, -0.0, 0.0, -0.0, 0.0, -0.0, 0.0, -0.0, 0.0, -0.0, 0.0, -0.0, 0.0, -0.0, 0.0, -0.0, 0.0, -0.0, 0.0, -0.0, 0.0, -0.0, 0.0, -0.0, 0.0, -0.0, 0.0, -0.0, 0.0, -0.0, 0.0, -0.0, 0.0, -0.0, 0.0, -0.0, 0.0, -0.0, 0.0, -0.0, 0.0, -0.0, 0.0, -0.0, 0.0, -0.0, 0.0, -0.0, 0.0, -0.0, 0.0, -0.0, 0.0, -0.0]\n"
          ]
        }
      ]
    },
    {
      "cell_type": "markdown",
      "metadata": {
        "id": "21v4zgmbMA-K"
      },
      "source": [
        "## Training a polynomial regression model with L2 regularization"
      ]
    },
    {
      "cell_type": "code",
      "metadata": {
        "id": "MrSeiPXPMA-K",
        "outputId": "7a6c34d6-821a-4f0b-d729-4b0244cebd77",
        "colab": {
          "base_uri": "https://localhost:8080/"
        }
      },
      "source": [
        "from sklearn import linear_model\n",
        "## TODO ##\n",
        "# use sklearn Ridge (linear regression with L2 Norm) to fit the data \n",
        "# normalization trick ;)\n",
        "\n",
        "model_L2_reg = linear_model.Ridge(alpha=0.1, normalize=True).fit(X_train, y_train)"
      ],
      "execution_count": null,
      "outputs": [
        {
          "output_type": "stream",
          "name": "stderr",
          "text": [
            "/usr/local/lib/python3.7/dist-packages/sklearn/linear_model/_base.py:145: FutureWarning: 'normalize' was deprecated in version 1.0 and will be removed in 1.2.\n",
            "If you wish to scale the data, use Pipeline with a StandardScaler in a preprocessing stage. To reproduce the previous behavior:\n",
            "\n",
            "from sklearn.pipeline import make_pipeline\n",
            "\n",
            "model = make_pipeline(StandardScaler(with_mean=False), Ridge())\n",
            "\n",
            "If you wish to pass a sample_weight parameter, you need to pass it as a fit parameter to each step of the pipeline as follows:\n",
            "\n",
            "kwargs = {s[0] + '__sample_weight': sample_weight for s in model.steps}\n",
            "model.fit(X, y, **kwargs)\n",
            "\n",
            "Set parameter alpha to: original_alpha * n_samples. \n",
            "  FutureWarning,\n"
          ]
        }
      ]
    },
    {
      "cell_type": "code",
      "metadata": {
        "id": "TyLoFFM_MA-L",
        "outputId": "713dcb5b-f542-4612-e07d-760d8574ff65",
        "colab": {
          "base_uri": "https://localhost:8080/",
          "height": 358
        }
      },
      "source": [
        "display_results(model_L2_reg)"
      ],
      "execution_count": null,
      "outputs": [
        {
          "output_type": "stream",
          "name": "stdout",
          "text": [
            "Training error (rmse): 2.1061901413096575\n",
            "Testing error (rmse): 4.966245277029638\n"
          ]
        },
        {
          "output_type": "display_data",
          "data": {
            "text/plain": [
              "<Figure size 432x288 with 1 Axes>"
            ],
            "image/png": "[encoded data removed]"
          },
          "metadata": {
            "needs_background": "light"
          }
        },
        {
          "output_type": "stream",
          "name": "stdout",
          "text": [
            "Polynomial coefficients\n",
            "[13.349242325251, 0.33852065712741713, -0.5652069858806839, 0.013675837141380133, -0.01471339690269983, 0.0009666701711182673, -0.00031290397706347224, 4.8512110181862344e-05, -5.143421918766091e-06, 1.8718728779216578e-06, -4.7256398471854094e-08, 6.160894205620815e-08, 9.246508410754507e-10, 1.8459093731635148e-09, 7.607106949874691e-11, 5.221282675423112e-11, 3.2771249963272637e-12, 1.4195202253312355e-12, 1.1981115606293095e-13, 3.7309330461264e-14, 4.110098203800907e-15, 9.438733467874467e-16, 1.3772229562102895e-16, 2.2581999909097258e-17, 4.604221080727033e-18, 4.878065352105834e-19, 1.555550195004608e-19, 8.198233076181233e-21, 5.353307247138343e-21, 2.0635196946826185e-23, 1.8845100516740786e-22, -7.515769174781971e-24, 6.793995737512665e-24, -5.272704167926474e-25, 2.5055437655174303e-25, -2.726459921884175e-26, 9.426942021927274e-27, -1.2594853192544704e-27, 3.606348416788017e-28, -5.503029364050463e-29, 1.397975485690674e-29, -2.3304849554896738e-30, 5.474168217481664e-31, -9.686013627999364e-32, 2.15972593622168e-32, -3.9787916616916175e-33, 8.567476425426063e-34, -1.622158035335783e-34, 3.4119802404299166e-35, -6.581268202878267e-36, 1.3625782139449755e-36, -2.661508030420967e-37, 5.452020833198808e-38, -1.0740392595475628e-38, 2.184429586475228e-39, -4.328097202253124e-40, 8.760366157457828e-41, -1.7424632462765628e-41, 3.515473654469211e-42, -7.0106211322498085e-43, 1.4113515681650124e-43, -2.8194644401347106e-44, 5.667818093238538e-45, -1.1335868049659849e-45, 2.276587856702516e-46, -4.5568172694914655e-47, 9.14560305783208e-48, -1.831531043730459e-48, 3.674348502809149e-49, -7.360900574524888e-50, 1.4763021706834058e-50, -2.958174172044857e-51, 5.931822976297883e-52, -1.188777942178284e-52, 2.383488753177244e-53, -4.7771329370383644e-54, 9.577363957433502e-55, -1.9196722358456154e-55, 3.848434747717683e-56, -7.714048739835974e-57, 1.5464137598009647e-57, -3.0998078711534502e-58, 6.213975320613747e-59, -1.2456192415779754e-59, 2.4969784175919317e-60, -5.0053522728813866e-61, 1.0033696863299062e-61, -2.0113295580870734e-62, 4.0318813653721116e-63, -8.082232807729133e-64, 1.6201486888533945e-64, -3.2477245725580697e-65, 6.51031826623301e-66, -1.3050491178308326e-66, 2.6160720100236025e-67, -5.2441418128512765e-68, 1.0512287727772895e-68, -2.1072785482285256e-69, 4.224203390605409e-70, -8.467777550710526e-71, 1.6974321286235847e-71, -3.4026472344017164e-72, 6.820873880842012e-73, -1.3673018851352405e-73, 2.7408648304568616e-74, -5.494294108446369e-75, 1.1013749929743361e-75, -2.2077983317260104e-76, 4.4257084220321325e-77, -8.871701180759393e-78, 1.778403800317898e-78, -3.56495799152534e-79, 7.146245820125163e-80, -1.4325240897360921e-80, 2.8716104105004523e-81, -5.756380011186185e-82, 1.1539130429763875e-82, -2.3131137133669983e-83, 4.636824319388766e-84, -9.294895550521397e-85, 1.863237419917495e-85, -3.7350123937384796e-86, 7.487136503683738e-87, -1.5008579258002802e-87, 3.0085920430071573e-88, -6.030969339870842e-89, 1.208956994797446e-89, -2.423453324645989e-90, 4.858009959625947e-91, -9.738278709879206e-92, 1.9521174710678087e-92, -3.913179241453888e-93, 7.844287363853566e-94, -1.5724515857874478e-94, 3.1521076509329555e-95, -6.318657644157514e-96, 1.266626548911432e-96, -2.539056516773673e-97, 5.0897462610429295e-98, -1.0202812627529042e-98, 2.0452371701454784e-99, -4.0998451544159134e-100, 8.218474685301701e-101, -1.647460451449076e-101, 3.302469127474215e-102, -6.620069387388717e-103, 1.3270470193588754e-103, -2.6601742497822622e-104, 5.332536727005809e-105, -1.068950584420246e-105, 2.142798825160788e-106, -4.2954154307425116e-107, 8.610511356215216e-108, -1.72604739579217e-108, 3.460003101450772e-109, -6.935859082330499e-110, 1.390349651247823e-110, -2.787069539936691e-111, 5.586908727937048e-112, -1.1199415283111454e-112, 2.2450143462101222e-113, -4.5003147890956214e-114, 9.021248887291154e-115, -1.8083830887181426e-115, 3.6250517339406184e-116, -7.266712549872721e-117, 1.4566719350821485e-117, -2.920017976984033e-118, 5.853414743188601e-119, -1.1733648369180082e-119, 2.3521057370746507e-120, -4.7149882342505995e-121, 9.451579361899966e-122, -1.8946463495246275e-122, 3.797973493524655e-123, -7.613348350923156e-124, 1.526157915532933e-124, -3.0593083045430364e-125, 6.13263359290719e-126, -1.2293365377322534e-126, 2.4643055873825026e-127, -4.939902005831226e-128, 9.902437404733602e-129, -1.985024529757451e-129, 3.979143944508883e-130, -7.976519329922811e-131, 1.598958507279826e-131, -3.2052430419319176e-132, 6.4251717044026944e-133, -1.2879781936113904e-133, 2.5818575806112094e-134, -5.175544585909042e-135, 1.0374802220443019e-135, -2.0797139185747154e-136, 4.1689565652877596e-137, -8.357014245207247e-138, 1.6752318236008987e-138, -3.3581391397561094e-139, 6.731664431747047e-140, -1.3494171663559584e-140, 2.705017024105795e-141]\n"
          ]
        }
      ]
    },
    {
      "cell_type": "markdown",
      "metadata": {
        "id": "1EsLoBMqMA-L"
      },
      "source": [
        "## Viewing the predictions in the testing set"
      ]
    },
    {
      "cell_type": "code",
      "metadata": {
        "id": "TPp6zYZ6MA-L",
        "outputId": "6a235ea6-20e6-4274-d83a-f2bbea33007e",
        "colab": {
          "base_uri": "https://localhost:8080/",
          "height": 300
        }
      },
      "source": [
        "import pandas as pd\n",
        "from IPython.display import display\n",
        "predictions={}\n",
        "predictions ['x']=X_test[:,0]\n",
        "predictions ['y']=y_test\n",
        "predictions['No reg'] = model_no_reg.predict(X_test)\n",
        "predictions['L1 reg'] = model_L1_reg.predict(X_test)\n",
        "predictions['L2 reg'] = model_L2_reg.predict(X_test)\n",
        "predictions=pd.DataFrame.from_dict(predictions)\n",
        "display(predictions)"
      ],
      "execution_count": null,
      "outputs": [
        {
          "output_type": "display_data",
          "data": {
            "text/plain": [
              "          x          y        No reg     L1 reg      L2 reg\n",
              "0  3.444219   6.685961  1.594056e+07   6.180458    7.503749\n",
              "1 -2.494937   3.506159 -7.842497e+00   7.182225    7.713605\n",
              "2  3.653099   4.833669  4.343336e+07   5.369253    6.477809\n",
              "3  3.424602   3.526993  1.382303e+07   6.256411    7.594541\n",
              "4 -0.278573  16.365057  1.007266e+01  13.166424   12.654211\n",
              "5 -1.150989  13.436894  2.625723e+02  11.830515   11.550807\n",
              "6 -4.988572 -18.893035 -2.529046e+15 -15.912238  570.238736\n",
              "7 -3.909422  -7.163796  5.487107e+08  -2.593870   -3.385892"
            ],
            "text/html": [
              "\n",
              "  <div id=\"df-a196ed61-1761-4d5b-a6d6-4d6f54c38a86\">\n",
              "    <div class=\"colab-df-container\">\n",
              "      <div>\n",
              "<style scoped>\n",
              "    .dataframe tbody tr th:only-of-type {\n",
              "        vertical-align: middle;\n",
              "    }\n",
              "\n",
              "    .dataframe tbody tr th {\n",
              "        vertical-align: top;\n",
              "    }\n",
              "\n",
              "    .dataframe thead th {\n",
              "        text-align: right;\n",
              "    }\n",
              "</style>\n",
              "<table border=\"1\" class=\"dataframe\">\n",
              "  <thead>\n",
              "    <tr style=\"text-align: right;\">\n",
              "      <th></th>\n",
              "      <th>x</th>\n",
              "      <th>y</th>\n",
              "      <th>No reg</th>\n",
              "      <th>L1 reg</th>\n",
              "      <th>L2 reg</th>\n",
              "    </tr>\n",
              "  </thead>\n",
              "  <tbody>\n",
              "    <tr>\n",
              "      <th>0</th>\n",
              "      <td>3.444219</td>\n",
              "      <td>6.685961</td>\n",
              "      <td>1.594056e+07</td>\n",
              "      <td>6.180458</td>\n",
              "      <td>7.503749</td>\n",
              "    </tr>\n",
              "    <tr>\n",
              "      <th>1</th>\n",
              "      <td>-2.494937</td>\n",
              "      <td>3.506159</td>\n",
              "      <td>-7.842497e+00</td>\n",
              "      <td>7.182225</td>\n",
              "      <td>7.713605</td>\n",
              "    </tr>\n",
              "    <tr>\n",
              "      <th>2</th>\n",
              "      <td>3.653099</td>\n",
              "      <td>4.833669</td>\n",
              "      <td>4.343336e+07</td>\n",
              "      <td>5.369253</td>\n",
              "      <td>6.477809</td>\n",
              "    </tr>\n",
              "    <tr>\n",
              "      <th>3</th>\n",
              "      <td>3.424602</td>\n",
              "      <td>3.526993</td>\n",
              "      <td>1.382303e+07</td>\n",
              "      <td>6.256411</td>\n",
              "      <td>7.594541</td>\n",
              "    </tr>\n",
              "    <tr>\n",
              "      <th>4</th>\n",
              "      <td>-0.278573</td>\n",
              "      <td>16.365057</td>\n",
              "      <td>1.007266e+01</td>\n",
              "      <td>13.166424</td>\n",
              "      <td>12.654211</td>\n",
              "    </tr>\n",
              "    <tr>\n",
              "      <th>5</th>\n",
              "      <td>-1.150989</td>\n",
              "      <td>13.436894</td>\n",
              "      <td>2.625723e+02</td>\n",
              "      <td>11.830515</td>\n",
              "      <td>11.550807</td>\n",
              "    </tr>\n",
              "    <tr>\n",
              "      <th>6</th>\n",
              "      <td>-4.988572</td>\n",
              "      <td>-18.893035</td>\n",
              "      <td>-2.529046e+15</td>\n",
              "      <td>-15.912238</td>\n",
              "      <td>570.238736</td>\n",
              "    </tr>\n",
              "    <tr>\n",
              "      <th>7</th>\n",
              "      <td>-3.909422</td>\n",
              "      <td>-7.163796</td>\n",
              "      <td>5.487107e+08</td>\n",
              "      <td>-2.593870</td>\n",
              "      <td>-3.385892</td>\n",
              "    </tr>\n",
              "  </tbody>\n",
              "</table>\n",
              "</div>\n",
              "      <button class=\"colab-df-convert\" onclick=\"convertToInteractive('df-a196ed61-1761-4d5b-a6d6-4d6f54c38a86')\"\n",
              "              title=\"Convert this dataframe to an interactive table.\"\n",
              "              style=\"display:none;\">\n",
              "        \n",
              "  <svg xmlns=\"http://www.w3.org/2000/svg\" height=\"24px\"viewBox=\"0 0 24 24\"\n",
              "       width=\"24px\">\n",
              "    <path d=\"M0 0h24v24H0V0z\" fill=\"none\"/>\n",
              "    <path d=\"M18.56 5.44l.94 2.06.94-2.06 2.06-.94-2.06-.94-.94-2.06-.94 2.06-2.06.94zm-11 1L8.5 8.5l.94-2.06 2.06-.94-2.06-.94L8.5 2.5l-.94 2.06-2.06.94zm10 10l.94 2.06.94-2.06 2.06-.94-2.06-.94-.94-2.06-.94 2.06-2.06.94z\"/><path d=\"M17.41 7.96l-1.37-1.37c-.4-.4-.92-.59-1.43-.59-.52 0-1.04.2-1.43.59L10.3 9.45l-7.72 7.72c-.78.78-.78 2.05 0 2.83L4 21.41c.39.39.9.59 1.41.59.51 0 1.02-.2 1.41-.59l7.78-7.78 2.81-2.81c.8-.78.8-2.07 0-2.86zM5.41 20L4 18.59l7.72-7.72 1.47 1.35L5.41 20z\"/>\n",
              "  </svg>\n",
              "      </button>\n",
              "      \n",
              "  <style>\n",
              "    .colab-df-container {\n",
              "      display:flex;\n",
              "      flex-wrap:wrap;\n",
              "      gap: 12px;\n",
              "    }\n",
              "\n",
              "    .colab-df-convert {\n",
              "      background-color: #E8F0FE;\n",
              "      border: none;\n",
              "      border-radius: 50%;\n",
              "      cursor: pointer;\n",
              "      display: none;\n",
              "      fill: #1967D2;\n",
              "      height: 32px;\n",
              "      padding: 0 0 0 0;\n",
              "      width: 32px;\n",
              "    }\n",
              "\n",
              "    .colab-df-convert:hover {\n",
              "      background-color: #E2EBFA;\n",
              "      box-shadow: 0px 1px 2px rgba(60, 64, 67, 0.3), 0px 1px 3px 1px rgba(60, 64, 67, 0.15);\n",
              "      fill: #174EA6;\n",
              "    }\n",
              "\n",
              "    [theme=dark] .colab-df-convert {\n",
              "      background-color: #3B4455;\n",
              "      fill: #D2E3FC;\n",
              "    }\n",
              "\n",
              "    [theme=dark] .colab-df-convert:hover {\n",
              "      background-color: #434B5C;\n",
              "      box-shadow: 0px 1px 3px 1px rgba(0, 0, 0, 0.15);\n",
              "      filter: drop-shadow(0px 1px 2px rgba(0, 0, 0, 0.3));\n",
              "      fill: #FFFFFF;\n",
              "    }\n",
              "  </style>\n",
              "\n",
              "      <script>\n",
              "        const buttonEl =\n",
              "          document.querySelector('#df-a196ed61-1761-4d5b-a6d6-4d6f54c38a86 button.colab-df-convert');\n",
              "        buttonEl.style.display =\n",
              "          google.colab.kernel.accessAllowed ? 'block' : 'none';\n",
              "\n",
              "        async function convertToInteractive(key) {\n",
              "          const element = document.querySelector('#df-a196ed61-1761-4d5b-a6d6-4d6f54c38a86');\n",
              "          const dataTable =\n",
              "            await google.colab.kernel.invokeFunction('convertToInteractive',\n",
              "                                                     [key], {});\n",
              "          if (!dataTable) return;\n",
              "\n",
              "          const docLinkHtml = 'Like what you see? Visit the ' +\n",
              "            '<a target=\"_blank\" href=https://colab.research.google.com/notebooks/data_table.ipynb>data table notebook</a>'\n",
              "            + ' to learn more about interactive tables.';\n",
              "          element.innerHTML = '';\n",
              "          dataTable['output_type'] = 'display_data';\n",
              "          await google.colab.output.renderOutput(dataTable, element);\n",
              "          const docLink = document.createElement('div');\n",
              "          docLink.innerHTML = docLinkHtml;\n",
              "          element.appendChild(docLink);\n",
              "        }\n",
              "      </script>\n",
              "    </div>\n",
              "  </div>\n",
              "  "
            ]
          },
          "metadata": {}
        }
      ]
    },
    {
      "cell_type": "code",
      "source": [
        ""
      ],
      "metadata": {
        "id": "_hyYDBkcyVa0"
      },
      "execution_count": null,
      "outputs": []
    }
  ]
}