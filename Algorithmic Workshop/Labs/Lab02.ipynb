{
 "cells": [
  {
   "cell_type": "markdown",
   "id": "83589afa",
   "metadata": {},
   "source": [
    "# 1- Money Change Problem"
   ]
  },
  {
   "cell_type": "code",
   "execution_count": 1,
   "id": "eeda6400",
   "metadata": {},
   "outputs": [],
   "source": [
    "# Helper Functions\n",
    "\n",
    "#Sort Coins Descending by Bubble Sort Used in Lab1 but descending order\n",
    "def bubble_sort(arr):\n",
    "    n = len(arr)\n",
    "    for i in range(n-1, 0, -1):\n",
    "          for j in range(i):\n",
    "            if arr[j] < arr[j+1] :\n",
    "                arr[j], arr[j+1] = arr[j+1], arr[j]\n",
    "                \n",
    "                \n",
    "#Printing Changes Used\n",
    "def print_change(coins):\n",
    "    for coin, value in coins.items():\n",
    "        if value != 0:\n",
    "            print(\"Coin:\", coin, \"\\t->\\t\", \"Repeat:\", value)\n",
    "            \n",
    "\n",
    "#Getting The Minmum combo from BruteForce Combos and thin convert it to dict for printing\n",
    "def get_optimal_combo(all_combos):\n",
    "    combo = min(all_combos, key=len)\n",
    "    coins_back = dict.fromkeys(combo, 0)\n",
    "    for i in combo:\n",
    "        coins_back[i] += 1\n",
    "    return coins_back\n",
    "    "
   ]
  },
  {
   "cell_type": "markdown",
   "id": "c3523314",
   "metadata": {},
   "source": [
    "* ### Greedy"
   ]
  },
  {
   "cell_type": "code",
   "execution_count": 2,
   "id": "718c4573",
   "metadata": {},
   "outputs": [],
   "source": [
    "def money_change(coins, amount):\n",
    "    bubble_sort(coins)\n",
    "    \n",
    "    coins_back = dict.fromkeys(coins, 0)\n",
    "    for i in coins:\n",
    "        while amount >=i:\n",
    "            coins_back[i] += 1\n",
    "            amount -= i\n",
    "    return coins_back"
   ]
  },
  {
   "cell_type": "markdown",
   "id": "dcfa4eb2",
   "metadata": {},
   "source": [
    "#### Testing:"
   ]
  },
  {
   "cell_type": "code",
   "execution_count": 3,
   "id": "bc7de450",
   "metadata": {
    "scrolled": false
   },
   "outputs": [
    {
     "name": "stdout",
     "output_type": "stream",
     "text": [
      "Coin: 20 \t->\t Repeat: 1\n",
      "Coin: 1 \t->\t Repeat: 4\n"
     ]
    }
   ],
   "source": [
    "coins = [1, 8, 20]\n",
    "\n",
    "print_change(money_change(coins, 24))"
   ]
  },
  {
   "cell_type": "markdown",
   "id": "a62ba799",
   "metadata": {},
   "source": [
    "#### ----------------------"
   ]
  },
  {
   "cell_type": "markdown",
   "id": "6dae1fc6",
   "metadata": {},
   "source": [
    "* ### Optimal"
   ]
  },
  {
   "cell_type": "code",
   "execution_count": 4,
   "id": "249419c4",
   "metadata": {},
   "outputs": [],
   "source": [
    "def money_change_brute_force(coins, amount):\n",
    "    if amount == 0:\n",
    "        return [[]]     # the only combo possible is no coins\n",
    "    if amount < 0:\n",
    "        return []      # no combos possible\n",
    "    else:\n",
    "        all_combos = []\n",
    "        for i in coins:\n",
    "            recursive_result = money_change_brute_force(coins, amount-i)\n",
    "            for combo in recursive_result:\n",
    "                combo.append(i)\n",
    "            all_combos.extend(recursive_result)\n",
    "    \n",
    "    return all_combos"
   ]
  },
  {
   "cell_type": "markdown",
   "id": "ae5872a9",
   "metadata": {},
   "source": [
    "#### Testing:"
   ]
  },
  {
   "cell_type": "code",
   "execution_count": 5,
   "id": "a689327c",
   "metadata": {
    "scrolled": true
   },
   "outputs": [
    {
     "name": "stdout",
     "output_type": "stream",
     "text": [
      "Coin: 8 \t->\t Repeat: 3\n"
     ]
    }
   ],
   "source": [
    "coins = [1, 8, 20]\n",
    "all_combos = money_change_brute_force(coins, 24)\n",
    "optimal_combo = get_optimal_combo(all_combos)\n",
    "print_change(optimal_combo)\n",
    "\n",
    "\n",
    "\n",
    "#To Print All Combos Uncomment next lines\n",
    "#for combo in all_combos:\n",
    "#    print(combo)"
   ]
  },
  {
   "cell_type": "markdown",
   "id": "d817b236",
   "metadata": {},
   "source": [
    "### Comparing Cases"
   ]
  },
  {
   "cell_type": "code",
   "execution_count": 6,
   "id": "04eb3f53",
   "metadata": {},
   "outputs": [
    {
     "name": "stdout",
     "output_type": "stream",
     "text": [
      "Greedy Solution\n",
      "Coin: 10 \t->\t Repeat: 2\n",
      "Coin: 5 \t->\t Repeat: 1\n",
      "Coin: 1 \t->\t Repeat: 2\n",
      "\n",
      "Optimal Solution\n",
      "Coin: 1 \t->\t Repeat: 2\n",
      "Coin: 5 \t->\t Repeat: 1\n",
      "Coin: 10 \t->\t Repeat: 2\n"
     ]
    }
   ],
   "source": [
    "# Lets Test on Egypt Money Bills\n",
    "\n",
    "bills = [1, 5, 10] #I will neglict other bills cause it will cause many combos on Brute Force\n",
    "\n",
    "#Case Amount = 27\n",
    "greedy_combo = money_change(bills, 27)\n",
    "print(\"Greedy Solution\")\n",
    "print_change(greedy_combo)\n",
    "\n",
    "\n",
    "all_combos = money_change_brute_force(bills, 27)\n",
    "optimal_combo = get_optimal_combo(all_combos)\n",
    "print(\"\\nOptimal Solution\")\n",
    "print_change(optimal_combo)"
   ]
  },
  {
   "cell_type": "markdown",
   "id": "8c9dc71e",
   "metadata": {},
   "source": [
    "#### No different when comparing greedy with brute force at this case The reason is bills are multible from each other"
   ]
  },
  {
   "cell_type": "code",
   "execution_count": 7,
   "id": "09be0286",
   "metadata": {
    "scrolled": true
   },
   "outputs": [
    {
     "name": "stdout",
     "output_type": "stream",
     "text": [
      "Greedy Solution\n",
      "Coin: 20 \t->\t Repeat: 1\n",
      "Coin: 1 \t->\t Repeat: 4\n",
      "\n",
      "Optimal Solution\n",
      "Coin: 8 \t->\t Repeat: 3\n"
     ]
    }
   ],
   "source": [
    "# Lets Test on other bills\n",
    "\n",
    "bills = [1, 8, 20] \n",
    "\n",
    "#Case Amount = 24\n",
    "greedy_combo = money_change(bills, 24)\n",
    "print(\"Greedy Solution\")\n",
    "print_change(greedy_combo)\n",
    "\n",
    "\n",
    "all_combos = money_change_brute_force(bills, 24)\n",
    "optimal_combo = get_optimal_combo(all_combos)\n",
    "print(\"\\nOptimal Solution\")\n",
    "print_change(optimal_combo)"
   ]
  },
  {
   "cell_type": "markdown",
   "id": "3020de17",
   "metadata": {},
   "source": [
    "#### As we see we have a different between greedy and brute force solution in this case"
   ]
  },
  {
   "cell_type": "markdown",
   "id": "9d3c4432",
   "metadata": {},
   "source": [
    "---"
   ]
  },
  {
   "cell_type": "markdown",
   "id": "b15cd2e2",
   "metadata": {},
   "source": [
    "# 2- Fraction Knapsack Problem"
   ]
  },
  {
   "cell_type": "markdown",
   "id": "e8c455c7",
   "metadata": {},
   "source": [
    "* ### Greedy"
   ]
  },
  {
   "cell_type": "code",
   "execution_count": 8,
   "id": "4e14e06b",
   "metadata": {},
   "outputs": [],
   "source": [
    "class ItemValue:\n",
    "  \n",
    "    \"\"\"Item Value DataClass\"\"\"\n",
    "  \n",
    "    def __init__(self, wt, val, ind):\n",
    "        self.wt = wt\n",
    "        self.val = val\n",
    "        self.ind = ind\n",
    "        self.cost = val // wt\n",
    "  \n",
    "    def __lt__(self, other):\n",
    "        return self.cost < other.cost"
   ]
  },
  {
   "cell_type": "code",
   "execution_count": 9,
   "id": "0a6738a3",
   "metadata": {},
   "outputs": [],
   "source": [
    "    def fraction_knapsack_greedy(wt, val, capacity):\n",
    "        \"\"\"function to get maximum value \"\"\"\n",
    "        iVal = []\n",
    "        for i in range(len(wt)):\n",
    "            iVal.append(ItemValue(wt[i], val[i], i))\n",
    "  \n",
    "        # sorting items by value\n",
    "        iVal.sort(reverse=True)\n",
    "  \n",
    "        totalValue = 0\n",
    "        for i in iVal:\n",
    "            curWt = int(i.wt)\n",
    "            curVal = int(i.val)\n",
    "            if capacity - curWt >= 0:\n",
    "                capacity -= curWt\n",
    "                totalValue += curVal\n",
    "            else:\n",
    "                fraction = capacity / curWt\n",
    "                totalValue += curVal * fraction\n",
    "                capacity = int(capacity - (curWt * fraction))\n",
    "                break\n",
    "        return totalValue\n"
   ]
  },
  {
   "cell_type": "markdown",
   "id": "bfbcd697",
   "metadata": {},
   "source": [
    "#### Testing:"
   ]
  },
  {
   "cell_type": "code",
   "execution_count": 10,
   "id": "b733bb8f",
   "metadata": {
    "scrolled": true
   },
   "outputs": [
    {
     "name": "stdout",
     "output_type": "stream",
     "text": [
      "240.0\n"
     ]
    }
   ],
   "source": [
    "    wt = [10, 40, 20, 30]\n",
    "    val = [60, 40, 100, 120]\n",
    "    print(fraction_knapsack_greedy(wt, val, 50))"
   ]
  },
  {
   "cell_type": "markdown",
   "id": "72713418",
   "metadata": {},
   "source": [
    "In this case Greedy Solution is the optimal case "
   ]
  },
  {
   "cell_type": "markdown",
   "id": "32460eca",
   "metadata": {},
   "source": [
    "---"
   ]
  },
  {
   "cell_type": "markdown",
   "id": "0e1bbb9b",
   "metadata": {},
   "source": [
    "# 3- 0-1Knapsack Problem"
   ]
  },
  {
   "cell_type": "markdown",
   "id": "7804cb91",
   "metadata": {},
   "source": [
    "* ### Iterative"
   ]
  },
  {
   "cell_type": "code",
   "execution_count": 11,
   "id": "3d88af54",
   "metadata": {},
   "outputs": [],
   "source": [
    "    def knapsack_greedy(W, wt, val, n):\n",
    "        \"\"\"function to get maximum value \"\"\"\n",
    "        iVal = []\n",
    "        for i in range(n):\n",
    "            iVal.append(ItemValue(wt[i], val[i], i))\n",
    "  \n",
    "        # sorting items by value\n",
    "        iVal.sort(reverse=True)\n",
    "  \n",
    "        totalValue = 0\n",
    "        for i in iVal:\n",
    "            curWt = int(i.wt)\n",
    "            curVal = int(i.val)\n",
    "            if W - curWt >= 0:\n",
    "                W -= curWt\n",
    "                totalValue += curVal\n",
    "        return totalValue  "
   ]
  },
  {
   "cell_type": "markdown",
   "id": "ecae3f08",
   "metadata": {},
   "source": [
    "#### Testing:"
   ]
  },
  {
   "cell_type": "code",
   "execution_count": 12,
   "id": "ef33710f",
   "metadata": {},
   "outputs": [
    {
     "name": "stdout",
     "output_type": "stream",
     "text": [
      "160\n"
     ]
    }
   ],
   "source": [
    "val = [60, 100, 120]\n",
    "wt = [10, 20, 30]\n",
    "W = 50\n",
    "n = len(val)\n",
    "print(knapsack_greedy(W, wt, val, n))"
   ]
  },
  {
   "cell_type": "markdown",
   "id": "8e5e3c68",
   "metadata": {},
   "source": [
    "* ### Optimal"
   ]
  },
  {
   "cell_type": "code",
   "execution_count": 13,
   "id": "5b9ae52e",
   "metadata": {},
   "outputs": [],
   "source": [
    "def knapSack_brute_force(W, wt, val, n):\n",
    "    # Base Case\n",
    "    if n == 0 or W == 0:\n",
    "        return 0\n",
    " \n",
    "    # If weight of the nth item is\n",
    "    # more than Knapsack of capacity W,\n",
    "    # then this item cannot be included\n",
    "    # in the optimal solution\n",
    "    if (wt[n-1] > W):\n",
    "        return knapSack_brute_force(W, wt, val, n-1)\n",
    " \n",
    "    # return the maximum of two cases:\n",
    "    # (1) nth item included\n",
    "    # (2) not included\n",
    "    else:\n",
    "        return max(\n",
    "            val[n-1] + knapSack_brute_force(\n",
    "                W-wt[n-1], wt, val, n-1),\n",
    "            knapSack_brute_force(W, wt, val, n-1))"
   ]
  },
  {
   "cell_type": "markdown",
   "id": "6fc2e07c",
   "metadata": {},
   "source": [
    "#### Testing:"
   ]
  },
  {
   "cell_type": "markdown",
   "id": "69967ead",
   "metadata": {},
   "source": [
    "---"
   ]
  },
  {
   "cell_type": "code",
   "execution_count": 14,
   "id": "e14111e7",
   "metadata": {},
   "outputs": [
    {
     "name": "stdout",
     "output_type": "stream",
     "text": [
      "220\n"
     ]
    }
   ],
   "source": [
    "val = [60, 100, 120]\n",
    "wt = [10, 20, 30]\n",
    "W = 50\n",
    "n = len(val)\n",
    "print(knapSack_brute_force(W, wt, val, n))"
   ]
  },
  {
   "cell_type": "markdown",
   "id": "55269adc",
   "metadata": {},
   "source": [
    "### As we see Greedy solution not the best in 0-1 Knapsack, so we can use brute force as optimal solution here "
   ]
  },
  {
   "cell_type": "markdown",
   "id": "158bddf9",
   "metadata": {},
   "source": [
    "---"
   ]
  }
 ],
 "metadata": {
  "kernelspec": {
   "display_name": "Python 3 (ipykernel)",
   "language": "python",
   "name": "python3"
  },
  "language_info": {
   "codemirror_mode": {
    "name": "ipython",
    "version": 3
   },
   "file_extension": ".py",
   "mimetype": "text/x-python",
   "name": "python",
   "nbconvert_exporter": "python",
   "pygments_lexer": "ipython3",
   "version": "3.8.12"
  }
 },
 "nbformat": 4,
 "nbformat_minor": 5
}
