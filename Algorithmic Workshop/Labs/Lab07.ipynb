{
 "cells": [
  {
   "cell_type": "markdown",
   "id": "8d2bc9cd",
   "metadata": {},
   "source": [
    "# 1-  Implement  Quick sort"
   ]
  },
  {
   "cell_type": "code",
   "execution_count": 1,
   "id": "eb3c33a7",
   "metadata": {},
   "outputs": [],
   "source": [
    "# function to find the partition position\n",
    "def partition(array, low, high):\n",
    "    # choose the rightmost element as pivot\n",
    "    pivot = array[high]\n",
    "    # pointer for greater element\n",
    "    i = low - 1\n",
    "    # traverse through all elements\n",
    "    # compare each element with pivot\n",
    "    for j in range(low, high):\n",
    "\n",
    "        if array[j] <= pivot:\n",
    "            # if element smaller than pivot is found\n",
    "            # swap it with the greater element pointed by i\n",
    "            i = i + 1\n",
    "            \n",
    "            # swapping element at i with element at j\n",
    "            (array[i], array[j]) = (array[j], array[i])\n",
    "\n",
    "        # swap the pivot element with the greater element specified by i\n",
    "        (array[i + 1], array[high]) = (array[high], array[i + 1])\n",
    "\n",
    "    # return the position from where partition is done\n",
    "    return i + 1\n"
   ]
  },
  {
   "cell_type": "code",
   "execution_count": 2,
   "id": "84a506c4",
   "metadata": {
    "scrolled": true
   },
   "outputs": [],
   "source": [
    "# function to perform quicksort\n",
    "def quickSort(array, low, high):\n",
    "    if low < high:\n",
    "            # find pivot element such that\n",
    "            # element smaller than pivot are on the left \n",
    "            # element greater than pivot are on the right\n",
    "            pi = partition(array, low, high)\n",
    "\n",
    "            # recursive call on the left of pivot\n",
    "            quickSort(array, low, pi - 1)\n",
    "\n",
    "            # recursive call on the right of pivot\n",
    "            quickSort(array, pi + 1, high)"
   ]
  },
  {
   "cell_type": "markdown",
   "id": "abf5b0e2",
   "metadata": {},
   "source": [
    "#### Testing"
   ]
  },
  {
   "cell_type": "code",
   "execution_count": 3,
   "id": "bbcacd45",
   "metadata": {},
   "outputs": [
    {
     "name": "stdout",
     "output_type": "stream",
     "text": [
      "Array before sorting:  [20, 35, 2, 55, 10, 3, 13, 1]\n",
      "Array After Quick Sort:  [1, 2, 10, 13, 3, 20, 35, 55]\n"
     ]
    }
   ],
   "source": [
    "arr = [20, 35, 2, 55, 10, 3, 13, 1]\n",
    "print(\"Array before sorting: \", arr)\n",
    "quickSort(arr, 0, len(arr) - 1)\n",
    "print(\"Array After Quick Sort: \", arr)"
   ]
  },
  {
   "cell_type": "markdown",
   "id": "89059208",
   "metadata": {},
   "source": [
    "---"
   ]
  },
  {
   "cell_type": "markdown",
   "id": "cc97bd1a",
   "metadata": {},
   "source": [
    "# 2- What is the complexity of Quicksort?"
   ]
  },
  {
   "cell_type": "markdown",
   "id": "e413df54",
   "metadata": {},
   "source": [
    "### Worst Case [Big-O]: O(n^2)\n",
    "\n",
    "It occurs when the pivot element picked is either the greatest or the smallest element.\n",
    "\n",
    "This condition leads to the case in which the pivot element lies in an extreme end of the sorted array. One sub-array is always empty and another sub-array contains n - 1 elements. Thus, quicksort is called only on this sub-array.\n"
   ]
  },
  {
   "cell_type": "markdown",
   "id": "51e40562",
   "metadata": {},
   "source": [
    "### Best Case [Big-omega]:  O(n*log n)\n",
    "\n",
    "It occurs when the pivot element is always the middle element or near to the middle element.\n"
   ]
  },
  {
   "cell_type": "markdown",
   "id": "f46cd9e2",
   "metadata": {},
   "source": [
    "### Average Case [Big-theta]:  O(n*log n)\n",
    "\n",
    "It occurs when the above conditions do not occur.\n"
   ]
  },
  {
   "cell_type": "markdown",
   "id": "de1b2f2a",
   "metadata": {},
   "source": [
    "---"
   ]
  }
 ],
 "metadata": {
  "kernelspec": {
   "display_name": "Python 3 (ipykernel)",
   "language": "python",
   "name": "python3"
  },
  "language_info": {
   "codemirror_mode": {
    "name": "ipython",
    "version": 3
   },
   "file_extension": ".py",
   "mimetype": "text/x-python",
   "name": "python",
   "nbconvert_exporter": "python",
   "pygments_lexer": "ipython3",
   "version": "3.8.12"
  }
 },
 "nbformat": 4,
 "nbformat_minor": 5
}
