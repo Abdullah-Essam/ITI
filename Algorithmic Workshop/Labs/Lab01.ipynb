{
 "cells": [
  {
   "cell_type": "markdown",
   "id": "96b3ffcf",
   "metadata": {},
   "source": [
    "# 1- Factorial"
   ]
  },
  {
   "cell_type": "markdown",
   "id": "347ecbc4",
   "metadata": {},
   "source": [
    "* ### Iterative"
   ]
  },
  {
   "cell_type": "code",
   "execution_count": 1,
   "id": "a414487e",
   "metadata": {},
   "outputs": [],
   "source": [
    "def factorial_iteratively(n):\n",
    "    result = 1\n",
    "    if n > 1:\n",
    "        for i in range(1, n+1):\n",
    "            result = result * i\n",
    "        return result\n",
    "    else:\n",
    "        return 'n has to be positive'"
   ]
  },
  {
   "cell_type": "markdown",
   "id": "aff2c047",
   "metadata": {},
   "source": [
    "* ### Recursion"
   ]
  },
  {
   "cell_type": "code",
   "execution_count": 2,
   "id": "d4aa5e5d",
   "metadata": {},
   "outputs": [],
   "source": [
    "def factorial_recursively(n):\n",
    "    if n <= 1:\n",
    "        return 1\n",
    "    else:\n",
    "        return n * factorial_recursively(n-1)"
   ]
  },
  {
   "cell_type": "markdown",
   "id": "15377180",
   "metadata": {},
   "source": [
    "#### Testing:"
   ]
  },
  {
   "cell_type": "code",
   "execution_count": 3,
   "id": "cec6fb6a",
   "metadata": {},
   "outputs": [
    {
     "name": "stdout",
     "output_type": "stream",
     "text": [
      "Factorial Iterative:  120\n",
      "Factorial Recursion:  120\n"
     ]
    }
   ],
   "source": [
    "print(\"Factorial Iterative: \", factorial_iteratively(5))\n",
    "print(\"Factorial Recursion: \", factorial_recursively(5))"
   ]
  },
  {
   "cell_type": "markdown",
   "id": "3bd8c871",
   "metadata": {},
   "source": [
    "---"
   ]
  },
  {
   "cell_type": "markdown",
   "id": "2279b9e4",
   "metadata": {},
   "source": [
    "# 2- Fibonacci"
   ]
  },
  {
   "cell_type": "markdown",
   "id": "f6a363ad",
   "metadata": {},
   "source": [
    "* ### Iterative"
   ]
  },
  {
   "cell_type": "code",
   "execution_count": 4,
   "id": "6dd3f709",
   "metadata": {},
   "outputs": [],
   "source": [
    "def fibonacci_iteratively(n):\n",
    "    a,b = 0,1\n",
    "    for i in range(n):\n",
    "        a,b = b,a+b\n",
    "    return a"
   ]
  },
  {
   "cell_type": "markdown",
   "id": "fd2c2a19",
   "metadata": {},
   "source": [
    "* ### Recursion"
   ]
  },
  {
   "cell_type": "code",
   "execution_count": 5,
   "id": "c0a02092",
   "metadata": {},
   "outputs": [],
   "source": [
    "def fibonacci_recursively(n):\n",
    "    if n < 0:\n",
    "        return \"Incorrect n!\"\n",
    "    elif n <= 1:\n",
    "        return n\n",
    "    else:\n",
    "        return(fibonacci_recursively(n-1) + fibonacci_recursively(n-2))"
   ]
  },
  {
   "cell_type": "markdown",
   "id": "b8e4c0f4",
   "metadata": {},
   "source": [
    "#### Testing:"
   ]
  },
  {
   "cell_type": "code",
   "execution_count": 6,
   "id": "bddea0dc",
   "metadata": {},
   "outputs": [
    {
     "name": "stdout",
     "output_type": "stream",
     "text": [
      "Fibonacci Iterative:  34\n",
      "Fibonacci Recursion:  34\n"
     ]
    }
   ],
   "source": [
    "print(\"Fibonacci Iterative: \", fibonacci_iteratively(9))\n",
    "print(\"Fibonacci Recursion: \", fibonacci_recursively(9))"
   ]
  },
  {
   "cell_type": "markdown",
   "id": "d8d8bd6d",
   "metadata": {},
   "source": [
    "---"
   ]
  },
  {
   "cell_type": "markdown",
   "id": "5a922331",
   "metadata": {},
   "source": [
    "# 3- Linear Search"
   ]
  },
  {
   "cell_type": "markdown",
   "id": "0e82b546",
   "metadata": {},
   "source": [
    "* ### Iterative"
   ]
  },
  {
   "cell_type": "code",
   "execution_count": 7,
   "id": "16a80500",
   "metadata": {},
   "outputs": [],
   "source": [
    "def linear_search_iteratively(arr, x):\n",
    "    for i in range(len(arr)):\n",
    "        if arr[i] == x:\n",
    "            return i\n",
    "    return -1"
   ]
  },
  {
   "cell_type": "markdown",
   "id": "9e67f5a2",
   "metadata": {},
   "source": [
    "* ### Recursion"
   ]
  },
  {
   "cell_type": "code",
   "execution_count": 8,
   "id": "5942e879",
   "metadata": {},
   "outputs": [],
   "source": [
    "def linear_search_recursively(arr, l, x):\n",
    "    if (len(arr)-1) < l:\n",
    "        return -1\n",
    "    if arr[l] == x:\n",
    "        return l\n",
    "    if arr[len(arr) - 1] == x:\n",
    "        return r\n",
    "    return linear_search_recursively(arr, l+1, x)"
   ]
  },
  {
   "cell_type": "markdown",
   "id": "848e5d8d",
   "metadata": {},
   "source": [
    "#### Testing:"
   ]
  },
  {
   "cell_type": "code",
   "execution_count": 9,
   "id": "263af1a9",
   "metadata": {},
   "outputs": [
    {
     "name": "stdout",
     "output_type": "stream",
     "text": [
      "Linear Search Iterative:  5\n",
      "Linear Search Recursion:  5\n"
     ]
    }
   ],
   "source": [
    "arr = [20, 35, 2, 55, 10, 3, 13, 1]\n",
    "print(\"Linear Search Iterative: \", linear_search_iteratively(arr, 3))\n",
    "print(\"Linear Search Recursion: \", linear_search_recursively(arr, 0, 3))"
   ]
  },
  {
   "cell_type": "markdown",
   "id": "9aa63794",
   "metadata": {},
   "source": [
    "---"
   ]
  },
  {
   "cell_type": "markdown",
   "id": "fc75b5bc",
   "metadata": {},
   "source": [
    "# 4- Binary Search"
   ]
  },
  {
   "cell_type": "markdown",
   "id": "e6d3d69d",
   "metadata": {},
   "source": [
    "* ### Iterative"
   ]
  },
  {
   "cell_type": "code",
   "execution_count": 10,
   "id": "4f1f8889",
   "metadata": {},
   "outputs": [],
   "source": [
    "def binary_search_iteratively(arr, x):\n",
    "    low = 0\n",
    "    high = len(arr) - 1\n",
    "    mid = 0\n",
    " \n",
    "    while low <= high:\n",
    "        mid = (high + low) // 2\n",
    "        \n",
    "        if arr[mid] < x:\n",
    "            low = mid + 1\n",
    "        elif arr[mid] > x:\n",
    "            high = mid - 1\n",
    "        else:\n",
    "            return mid\n",
    " \n",
    "    return -1"
   ]
  },
  {
   "cell_type": "markdown",
   "id": "a03d1565",
   "metadata": {},
   "source": [
    "* ### Recursion"
   ]
  },
  {
   "cell_type": "code",
   "execution_count": 11,
   "id": "8e1bace1",
   "metadata": {},
   "outputs": [],
   "source": [
    "def binary_search_recursively(arr, l, r, x):\n",
    "    if r >= l:\n",
    "        mid = (r + l) // 2\n",
    " \n",
    "        if arr[mid] == x:\n",
    "            return mid\n",
    "        elif arr[mid] > x:\n",
    "            return binary_search_recursively(arr, l, mid - 1, x)\n",
    "        else:\n",
    "            return binary_search_recursively(arr, mid + 1, r, x)\n",
    "    else:\n",
    "        return -1\n"
   ]
  },
  {
   "cell_type": "markdown",
   "id": "2d357dad",
   "metadata": {},
   "source": [
    "#### Testing:"
   ]
  },
  {
   "cell_type": "code",
   "execution_count": 12,
   "id": "57afb3f7",
   "metadata": {},
   "outputs": [
    {
     "name": "stdout",
     "output_type": "stream",
     "text": [
      "Binary Search Iterative:  7\n",
      "Binary Search Recursion:  7\n"
     ]
    }
   ],
   "source": [
    "arr = [ 2, 4, 6, 8, 20, 40, 60, 80]\n",
    "print(\"Binary Search Iterative: \", binary_search_iteratively(arr, 80))\n",
    "print(\"Binary Search Recursion: \", binary_search_recursively(arr, 0, len(arr) - 1, 80))"
   ]
  },
  {
   "cell_type": "markdown",
   "id": "b16ba144",
   "metadata": {},
   "source": [
    "---"
   ]
  },
  {
   "cell_type": "markdown",
   "id": "823a90b6",
   "metadata": {},
   "source": [
    "# 5- Insertion Sort"
   ]
  },
  {
   "cell_type": "markdown",
   "id": "794555c2",
   "metadata": {},
   "source": [
    "* ### Iterative"
   ]
  },
  {
   "cell_type": "code",
   "execution_count": 13,
   "id": "9ea4becd",
   "metadata": {},
   "outputs": [],
   "source": [
    "def insertion_sort_iteratively(arr):\n",
    "    \n",
    "    for i in range(1, len(arr)):\n",
    " \n",
    "        value = arr[i]\n",
    "        j = i\n",
    " \n",
    "        while j > 0 and arr[j - 1] > value:\n",
    "            arr[j] = arr[j - 1]\n",
    "            j = j - 1\n",
    " \n",
    "        arr[j] = value"
   ]
  },
  {
   "cell_type": "markdown",
   "id": "f081ce8b",
   "metadata": {},
   "source": [
    "* ### Recursion"
   ]
  },
  {
   "cell_type": "code",
   "execution_count": 14,
   "id": "58541bb5",
   "metadata": {},
   "outputs": [],
   "source": [
    "def insertion_sort_recursively(arr, n):\n",
    "    if n <= 1:\n",
    "        return\n",
    "    \n",
    "    insertion_sort_recursively(arr, n-1)\n",
    "    \n",
    "    end = arr[n - 1]\n",
    "    j = n - 2\n",
    "    \n",
    "    while j >= 0 and arr[j] > end:\n",
    "        arr[j+1] = arr[j]\n",
    "        j = j - 1\n",
    "    arr[j + 1] = end"
   ]
  },
  {
   "cell_type": "markdown",
   "id": "21e37443",
   "metadata": {},
   "source": [
    "#### Testing:"
   ]
  },
  {
   "cell_type": "code",
   "execution_count": 15,
   "id": "632a4e9e",
   "metadata": {},
   "outputs": [
    {
     "name": "stdout",
     "output_type": "stream",
     "text": [
      "Array before sorting:  [20, 35, 2, 55, 10, 3, 13, 1]\n",
      "Array After Insertion Sort Iterative:  [1, 2, 3, 10, 13, 20, 35, 55]\n",
      "Array After Insertion Sort Recursion:  [1, 2, 3, 10, 13, 20, 35, 55]\n"
     ]
    }
   ],
   "source": [
    "arr = [20, 35, 2, 55, 10, 3, 13, 1]\n",
    "print(\"Array before sorting: \", arr)\n",
    "insertion_sort_iteratively(arr)\n",
    "print(\"Array After Insertion Sort Iterative: \", arr)\n",
    "\n",
    "arr = [20, 35, 2, 55, 10, 3, 13, 1]\n",
    "insertion_sort_recursively(arr, len(arr))\n",
    "print(\"Array After Insertion Sort Recursion: \", arr)\n",
    "\n"
   ]
  },
  {
   "cell_type": "markdown",
   "id": "eaeff9dc",
   "metadata": {},
   "source": [
    "---"
   ]
  },
  {
   "cell_type": "markdown",
   "id": "95343391",
   "metadata": {},
   "source": [
    "# 6- Selection Sort"
   ]
  },
  {
   "cell_type": "code",
   "execution_count": 16,
   "id": "85a9220f",
   "metadata": {},
   "outputs": [],
   "source": [
    "def selection_sort(arr, size):\n",
    "    for step in range(size):\n",
    "        min_idx = step\n",
    "\n",
    "        for i in range(step + 1, size):\n",
    "            if arr[i] < arr[min_idx]:\n",
    "                min_idx = i\n",
    "         \n",
    "        arr[step], arr[min_idx] = arr[min_idx], arr[step]"
   ]
  },
  {
   "cell_type": "markdown",
   "id": "280a1d4c",
   "metadata": {},
   "source": [
    "#### Testing:"
   ]
  },
  {
   "cell_type": "code",
   "execution_count": 17,
   "id": "37657c1d",
   "metadata": {},
   "outputs": [
    {
     "name": "stdout",
     "output_type": "stream",
     "text": [
      "Array before sorting:  [20, 35, 2, 55, 10, 3, 13, 1]\n",
      "Array After Selection Sort:  [1, 2, 3, 10, 13, 20, 35, 55]\n"
     ]
    }
   ],
   "source": [
    "arr = [20, 35, 2, 55, 10, 3, 13, 1]\n",
    "print(\"Array before sorting: \", arr)\n",
    "selection_sort(arr, len(arr))\n",
    "print(\"Array After Selection Sort: \", arr)"
   ]
  },
  {
   "cell_type": "markdown",
   "id": "b00f86ae",
   "metadata": {},
   "source": [
    "---"
   ]
  },
  {
   "cell_type": "markdown",
   "id": "f48d4b0d",
   "metadata": {},
   "source": [
    "# 7- Bubble Sort"
   ]
  },
  {
   "cell_type": "code",
   "execution_count": 18,
   "id": "8df7298a",
   "metadata": {},
   "outputs": [],
   "source": [
    "def bubble_sort(arr):\n",
    "    n = len(arr)\n",
    "    for i in range(n):\n",
    "          for j in range(0, n-i-1):\n",
    "            if arr[j] > arr[j+1] :\n",
    "                arr[j], arr[j+1] = arr[j+1], arr[j]"
   ]
  },
  {
   "cell_type": "markdown",
   "id": "10397c35",
   "metadata": {},
   "source": [
    "#### Testing:"
   ]
  },
  {
   "cell_type": "code",
   "execution_count": 19,
   "id": "b1c80044",
   "metadata": {},
   "outputs": [
    {
     "name": "stdout",
     "output_type": "stream",
     "text": [
      "Array before sorting:  [20, 35, 2, 55, 10, 3, 13, 1]\n",
      "Array After Bubble Sort:  [1, 2, 3, 10, 13, 20, 35, 55]\n"
     ]
    }
   ],
   "source": [
    "arr = [20, 35, 2, 55, 10, 3, 13, 1]\n",
    "print(\"Array before sorting: \", arr)\n",
    "bubble_sort(arr)\n",
    "print(\"Array After Bubble Sort: \", arr)"
   ]
  },
  {
   "cell_type": "markdown",
   "id": "9f419431",
   "metadata": {},
   "source": [
    "---"
   ]
  },
  {
   "cell_type": "markdown",
   "id": "3366b498",
   "metadata": {},
   "source": [
    "# 8- Bubble Sort With Swap"
   ]
  },
  {
   "cell_type": "code",
   "execution_count": 20,
   "id": "d4ebb9fc",
   "metadata": {},
   "outputs": [],
   "source": [
    "def bubble_sort_optimized(arr):\n",
    "    n = len(arr)\n",
    "   \n",
    "    for i in range(n):\n",
    "        swapped = False\n",
    "        for j in range(0, n-i-1):\n",
    "            if arr[j] > arr[j+1] :\n",
    "                arr[j], arr[j+1] = arr[j+1], arr[j]\n",
    "                swapped = True\n",
    "        if swapped == False:\n",
    "            break"
   ]
  },
  {
   "cell_type": "markdown",
   "id": "fa8d18ae",
   "metadata": {},
   "source": [
    "#### Testing:"
   ]
  },
  {
   "cell_type": "code",
   "execution_count": 21,
   "id": "33b442b1",
   "metadata": {},
   "outputs": [
    {
     "name": "stdout",
     "output_type": "stream",
     "text": [
      "Array before sorting:  [20, 35, 2, 55, 10, 3, 13, 1]\n",
      "Array After Bubble Sort With Swap Optimization:  [1, 2, 3, 10, 13, 20, 35, 55]\n"
     ]
    }
   ],
   "source": [
    "arr = [20, 35, 2, 55, 10, 3, 13, 1]\n",
    "print(\"Array before sorting: \", arr)\n",
    "bubble_sort_optimized(arr)\n",
    "print(\"Array After Bubble Sort With Swap Optimization: \", arr)"
   ]
  },
  {
   "cell_type": "markdown",
   "id": "9f3e862e",
   "metadata": {},
   "source": [
    "---"
   ]
  },
  {
   "cell_type": "markdown",
   "id": "b0cc2ff8",
   "metadata": {},
   "source": [
    "# 9- GCD"
   ]
  },
  {
   "cell_type": "code",
   "execution_count": 22,
   "id": "919f0af3",
   "metadata": {},
   "outputs": [],
   "source": [
    "def gcd(a,b):\n",
    "    if(b==0):\n",
    "        return a\n",
    "    else:\n",
    "        return gcd(b, a%b)"
   ]
  },
  {
   "cell_type": "markdown",
   "id": "dd4a6a70",
   "metadata": {},
   "source": [
    "#### Testing:"
   ]
  },
  {
   "cell_type": "code",
   "execution_count": 23,
   "id": "ce1b407e",
   "metadata": {},
   "outputs": [
    {
     "name": "stdout",
     "output_type": "stream",
     "text": [
      "The GCD of 56 and 42 is :  14\n"
     ]
    }
   ],
   "source": [
    "print (\"The GCD of 56 and 42 is : \", gcd(56, 42))"
   ]
  },
  {
   "cell_type": "markdown",
   "id": "bd74be8f",
   "metadata": {},
   "source": [
    "---"
   ]
  },
  {
   "cell_type": "markdown",
   "id": "1f71c4d8",
   "metadata": {},
   "source": [
    "# 10- GCD With Euclidean Lemma"
   ]
  },
  {
   "cell_type": "code",
   "execution_count": 24,
   "id": "5ff7f11a",
   "metadata": {},
   "outputs": [],
   "source": [
    "def gcd_euclidean(a, b):\n",
    "    while(b):\n",
    "        a, b = b, a % b\n",
    "    return a"
   ]
  },
  {
   "cell_type": "markdown",
   "id": "fe7de3b1",
   "metadata": {},
   "source": [
    "#### Testing:"
   ]
  },
  {
   "cell_type": "code",
   "execution_count": 25,
   "id": "357210b4",
   "metadata": {},
   "outputs": [
    {
     "name": "stdout",
     "output_type": "stream",
     "text": [
      "The GCD With Euclidean Lemma of 56 and 42 is :  14\n"
     ]
    }
   ],
   "source": [
    "print (\"The GCD With Euclidean Lemma of 56 and 42 is : \", gcd_euclidean(56, 42))"
   ]
  }
 ],
 "metadata": {
  "kernelspec": {
   "display_name": "Python 3 (ipykernel)",
   "language": "python",
   "name": "python3"
  },
  "language_info": {
   "codemirror_mode": {
    "name": "ipython",
    "version": 3
   },
   "file_extension": ".py",
   "mimetype": "text/x-python",
   "name": "python",
   "nbconvert_exporter": "python",
   "pygments_lexer": "ipython3",
   "version": "3.8.12"
  }
 },
 "nbformat": 4,
 "nbformat_minor": 5
}
