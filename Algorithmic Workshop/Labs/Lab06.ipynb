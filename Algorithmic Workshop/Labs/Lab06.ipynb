{
 "cells": [
  {
   "cell_type": "markdown",
   "id": "8d2bc9cd",
   "metadata": {},
   "source": [
    "# 0-1Knapsack Problem By Dynamic Programming"
   ]
  },
  {
   "cell_type": "code",
   "execution_count": 9,
   "id": "eb3c33a7",
   "metadata": {},
   "outputs": [],
   "source": [
    "def knapsack_dynamic(W, wt, val, n):\n",
    "    #Build Table with zeros, to start using it on dynamic programming\n",
    "    K = [[0 for x in range(W + 1)] for x in range(n + 1)]\n",
    "    \n",
    "    for i in range(n + 1):\n",
    "        for w in range(W + 1):\n",
    "            if i == 0 or w == 0:\n",
    "                K[i][w] = 0\n",
    "            elif wt[i-1] <= w:\n",
    "                K[i][w] = max(val[i-1] + K[i-1][w-wt[i-1]],  K[i-1][w])\n",
    "            else:\n",
    "                K[i][w] = K[i-1][w]\n",
    "  \n",
    "    return K[n][W]\n"
   ]
  },
  {
   "cell_type": "markdown",
   "id": "359f080b",
   "metadata": {},
   "source": [
    "#### Testing:"
   ]
  },
  {
   "cell_type": "code",
   "execution_count": 10,
   "id": "84a506c4",
   "metadata": {},
   "outputs": [
    {
     "name": "stdout",
     "output_type": "stream",
     "text": [
      "220\n"
     ]
    }
   ],
   "source": [
    "val = [60, 100, 120]\n",
    "wt = [10, 20, 30]\n",
    "W = 50\n",
    "n = len(val)\n",
    "print(knapsack_dynamic(W, wt, val, n))"
   ]
  },
  {
   "cell_type": "markdown",
   "id": "89059208",
   "metadata": {},
   "source": [
    "---"
   ]
  },
  {
   "cell_type": "markdown",
   "id": "cc97bd1a",
   "metadata": {},
   "source": [
    "# IS the solution polynomial? Justify Your answer."
   ]
  },
  {
   "cell_type": "markdown",
   "id": "b0107aef",
   "metadata": {},
   "source": [
    "It is little tricky to get this idea.\n",
    "Let me explain with an simple conversation between p1 and p2.\n",
    "\n",
    "p1: \"What is time complexity of - adding two numbers\"\n",
    "\n",
    "p2: \"It is a single step so O(1).\"\n",
    "\n",
    "p1: \"Not exactly what if I have very large number, so it will take some time.\"\n",
    "\n",
    "p2: \"Yes, it depends on the number. It depends on length of number. So it will be O(log N), it has logarithmic time complexity.\"\n",
    "\n",
    "p1: \"Or should we say O(M) where M = length of input, so is addition a linear time algorithm not logarithmic time algorithm.\"\n",
    "\n",
    "P2: \"They both are same thing, just a different way of saying.\"\n",
    "\n",
    "p1: \"Yes, but to get correct answer we should revisit definition of big O notation. It says - big O notation is used to classify algorithms by how they respond to changes in input size.\"\n",
    "\n",
    "p2: \"Oh!\"\n",
    "\n",
    "p1: \"So if N as 130 or 200 will it affect running time of algorithm?\"\n",
    "\n",
    "p2: \"No\"\n",
    "\n",
    "p1: \"So if N as 130 or 200000 will it affect running time of algorithm?\"\n",
    "\n",
    "p2: \"Yes\"\n",
    "\n",
    "P1: \"So we can say, size of input is not the value of N but number of bits required to represent N (here, binary representation of N).\"\n",
    "\n",
    "p2: \"I get the point you are trying to make. So correct answer should be linear because according to definition big O depends on size of input, not the value of those input variable.\"\n",
    "\n",
    "p1: \"Hence it is wrong to use a variable in big O notation which does not signify the size of input but just value of one of the input. So remember when someone tells you addition is O(n) operations, they do not mean n is value of input, but n denotes the size of input (bits required to represent N).\"\n",
    "\n",
    "\n",
    "Similarly in this case we are saying time complexity of knapsack is O(nW). \n",
    "\n",
    "Thus using W in big O notation should in itself raise red flags because W is just a value of one of the variable in input and has nothing to do (directly) with size of input.\n",
    "\n",
    "Thus, the correct way to say complexity of knapsack would be O(n*2^m) where m is number of bits in W. Now you can see that knapsack has exponential complexity.\n",
    "\n",
    "Even when we say Knapsack problem has complexity O(nW) we have special term when we use a value of a variable, Pseudo-polynomial time."
   ]
  },
  {
   "cell_type": "markdown",
   "id": "ef37fade",
   "metadata": {},
   "source": [
    "#### Resources:\n",
    "\n",
    "* https://www.quora.com/Why-is-the-Knapsack-problem-NP-complete-even-when-it-has-complexity-O-nW/answer/Vishwas-Tripathi\n",
    "\n",
    "* https://www.quora.com/What-is-the-meaning-of-pseudo-polynomial-time-complexity-I-saw-that-Knapsack-runs-in-pseudo-polynomial-time-I-read-about-this-here-Pseudo-polynomial-time-but-I-am-not-able-to-follow-I-want-to-understand-the-concept/answer/Nishanth-Dikkala\n",
    "\n",
    "* https://stackoverflow.com/questions/4538581/why-is-the-knapsack-problem-pseudo-polynomial\n",
    "\n",
    "* https://www.youtube.com/watch?v=9oI7fg-MIpE\n",
    "\n",
    "* https://cs.stackexchange.com/questions/52763/why-is-the-dynamic-programming-algorithm-of-the-knapsack-problem-not-polynomial"
   ]
  },
  {
   "cell_type": "markdown",
   "id": "de1b2f2a",
   "metadata": {},
   "source": [
    "---"
   ]
  }
 ],
 "metadata": {
  "kernelspec": {
   "display_name": "Python 3 (ipykernel)",
   "language": "python",
   "name": "python3"
  },
  "language_info": {
   "codemirror_mode": {
    "name": "ipython",
    "version": 3
   },
   "file_extension": ".py",
   "mimetype": "text/x-python",
   "name": "python",
   "nbconvert_exporter": "python",
   "pygments_lexer": "ipython3",
   "version": "3.8.12"
  }
 },
 "nbformat": 4,
 "nbformat_minor": 5
}
