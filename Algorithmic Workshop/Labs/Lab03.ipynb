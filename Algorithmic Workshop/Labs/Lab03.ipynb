{
 "cells": [
  {
   "cell_type": "markdown",
   "id": "83589afa",
   "metadata": {},
   "source": [
    "# 1- Merge Sort"
   ]
  },
  {
   "cell_type": "code",
   "execution_count": 1,
   "id": "eeda6400",
   "metadata": {},
   "outputs": [],
   "source": [
    "# Python program for implementation of MergeSort\n",
    "def mergeSort(arr):\n",
    "    if len(arr) > 1:\n",
    "  \n",
    "         # Finding the mid of the array\n",
    "        mid = len(arr)//2\n",
    "  \n",
    "        # Dividing the array elements\n",
    "        L = arr[:mid]\n",
    "  \n",
    "        # into 2 halves\n",
    "        R = arr[mid:]\n",
    "  \n",
    "        # Sorting the first half\n",
    "        mergeSort(L)\n",
    "  \n",
    "        # Sorting the second half\n",
    "        mergeSort(R)\n",
    "  \n",
    "        i = j = k = 0\n",
    "  \n",
    "        # Copy data to temp arrays L[] and R[]\n",
    "        while i < len(L) and j < len(R):\n",
    "            if L[i] < R[j]:\n",
    "                arr[k] = L[i]\n",
    "                i += 1\n",
    "            else:\n",
    "                arr[k] = R[j]\n",
    "                j += 1\n",
    "            k += 1\n",
    "  \n",
    "        # Checking if any element was left\n",
    "        while i < len(L):\n",
    "            arr[k] = L[i]\n",
    "            i += 1\n",
    "            k += 1\n",
    "  \n",
    "        while j < len(R):\n",
    "            arr[k] = R[j]\n",
    "            j += 1\n",
    "            k += 1"
   ]
  },
  {
   "cell_type": "markdown",
   "id": "dcfa4eb2",
   "metadata": {},
   "source": [
    "#### Testing:"
   ]
  },
  {
   "cell_type": "code",
   "execution_count": 4,
   "id": "bc7de450",
   "metadata": {
    "scrolled": false
   },
   "outputs": [
    {
     "name": "stdout",
     "output_type": "stream",
     "text": [
      "Array before sorting:  [20, 35, 2, 55, 10, 3, 13, 1]\n",
      "Array After Merge Sort:  [1, 2, 3, 10, 13, 20, 35, 55]\n"
     ]
    }
   ],
   "source": [
    "arr = [20, 35, 2, 55, 10, 3, 13, 1]\n",
    "print(\"Array before sorting: \", arr)\n",
    "mergeSort(arr)\n",
    "print(\"Array After Merge Sort: \", arr)"
   ]
  },
  {
   "cell_type": "markdown",
   "id": "a62ba799",
   "metadata": {},
   "source": [
    "#### ----------------------"
   ]
  },
  {
   "cell_type": "markdown",
   "id": "5b2bc95f",
   "metadata": {},
   "source": [
    "### Correct Simulation was in dance since we devide the array into to parts then sorting the first part after that sorting other part"
   ]
  },
  {
   "cell_type": "markdown",
   "id": "9d3c4432",
   "metadata": {},
   "source": [
    "---"
   ]
  },
  {
   "cell_type": "markdown",
   "id": "b15cd2e2",
   "metadata": {},
   "source": [
    "# 2- Multiplication /Classical Multiplication/ Karatsuba"
   ]
  },
  {
   "cell_type": "code",
   "execution_count": 11,
   "id": "4e14e06b",
   "metadata": {},
   "outputs": [],
   "source": [
    "def karatsuba(x,y):\n",
    "    if len(str(x)) == 1 or len(str(y)) == 1:\n",
    "        return x*y\n",
    "    \n",
    "    num1 = str(x)\n",
    "    num2 = str(y)\n",
    "    if len(num1)>len(num2):\n",
    "        num2 = '0'*(len(num1)-len(num2))+num2\n",
    "    if len(num2)>len(num1):\n",
    "        num1 = '0'*(len(num2)-len(num1))+num1\n",
    "    a = int(num1[:len(num1)//2])\n",
    "    b = int(num1[len(num1)//2:])\n",
    "    c = int(num2[:len(num2)//2])\n",
    "    d = int(num2[len(num2)//2:])\n",
    "\n",
    "    ac = karatsuba(a,c)\n",
    "    bd = karatsuba(b,d)\n",
    "    mid = karatsuba(a+b,c+d)-ac-bd\n",
    "    return ac*10**(len(num1))+ mid*10**(round(len(num1)/2))+bd"
   ]
  },
  {
   "cell_type": "markdown",
   "id": "bfbcd697",
   "metadata": {},
   "source": [
    "#### Testing:"
   ]
  },
  {
   "cell_type": "code",
   "execution_count": 12,
   "id": "b733bb8f",
   "metadata": {
    "scrolled": true
   },
   "outputs": [
    {
     "name": "stdout",
     "output_type": "stream",
     "text": [
      "7006652\n"
     ]
    }
   ],
   "source": [
    "print(karatsuba(1234, 5678))"
   ]
  },
  {
   "cell_type": "markdown",
   "id": "32460eca",
   "metadata": {},
   "source": [
    "---"
   ]
  }
 ],
 "metadata": {
  "kernelspec": {
   "display_name": "Python 3 (ipykernel)",
   "language": "python",
   "name": "python3"
  },
  "language_info": {
   "codemirror_mode": {
    "name": "ipython",
    "version": 3
   },
   "file_extension": ".py",
   "mimetype": "text/x-python",
   "name": "python",
   "nbconvert_exporter": "python",
   "pygments_lexer": "ipython3",
   "version": "3.8.12"
  }
 },
 "nbformat": 4,
 "nbformat_minor": 5
}
